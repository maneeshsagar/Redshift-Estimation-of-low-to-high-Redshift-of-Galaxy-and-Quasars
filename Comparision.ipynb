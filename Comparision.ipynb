{
  "nbformat": 4,
  "nbformat_minor": 0,
  "metadata": {
    "accelerator": "GPU",
    "colab": {
      "name": "Project_Final.ipynb",
      "provenance": [],
      "collapsed_sections": [],
      "authorship_tag": "ABX9TyNZaqcme3eh0/Kc5Fjb56Oy",
      "include_colab_link": true
    },
    "kernelspec": {
      "display_name": "Python 3",
      "name": "python3"
    }
  },
  "cells": [
    {
      "cell_type": "markdown",
      "metadata": {
        "id": "view-in-github",
        "colab_type": "text"
      },
      "source": [
        "<a href=\"https://colab.research.google.com/github/maneeshsagar/Redshift-Estimation-of-low-to-high-Redshift-of-Galaxy-and-Quasars/blob/main/Comparision.ipynb\" target=\"_parent\"><img src=\"https://colab.research.google.com/assets/colab-badge.svg\" alt=\"Open In Colab\"/></a>"
      ]
    },
    {
      "cell_type": "code",
      "metadata": {
        "colab": {
          "base_uri": "https://localhost:8080/"
        },
        "id": "NIldWo_6aFTz",
        "outputId": "9525d842-eb73-450e-d75c-8e084aa54f7f"
      },
      "source": [
        "from google.colab import drive\n",
        "drive.mount('/content/gdrive')"
      ],
      "execution_count": null,
      "outputs": [
        {
          "output_type": "stream",
          "text": [
            "Mounted at /content/gdrive\n"
          ],
          "name": "stdout"
        }
      ]
    },
    {
      "cell_type": "code",
      "metadata": {
        "id": "1WYvxVFWZLPM"
      },
      "source": [
        "#This program is to develop a neural Network(ANN) regression model . redshift the label/target\n",
        "import matplotlib.pyplot as plt\n",
        "import pandas as pd\n",
        "import numpy as np\n",
        "import seaborn as sns\n",
        "import keras\n",
        "from keras.models import Sequential\n",
        "from keras.layers import Dense, Dropout\n",
        "from sklearn.preprocessing import  MinMaxScaler\n",
        "\n",
        "import xgboost as xg \n",
        "from sklearn.model_selection import train_test_split \n",
        "from sklearn.metrics import mean_squared_error as MSE "
      ],
      "execution_count": null,
      "outputs": []
    },
    {
      "cell_type": "code",
      "metadata": {
        "id": "hPoJqQysZZkJ"
      },
      "source": [
        "dataset = pd.read_csv(\"/content/gdrive/MyDrive/Dataset/dr16_train.csv\")"
      ],
      "execution_count": null,
      "outputs": []
    },
    {
      "cell_type": "code",
      "metadata": {
        "colab": {
          "base_uri": "https://localhost:8080/"
        },
        "id": "YStK8hOyTLEP",
        "outputId": "73170bb8-8ced-46d7-d00e-48d1bb4afee5"
      },
      "source": [
        "dataset.shape"
      ],
      "execution_count": null,
      "outputs": [
        {
          "output_type": "execute_result",
          "data": {
            "text/plain": [
              "(3651936, 28)"
            ]
          },
          "metadata": {
            "tags": []
          },
          "execution_count": 6
        }
      ]
    },
    {
      "cell_type": "code",
      "metadata": {
        "colab": {
          "base_uri": "https://localhost:8080/",
          "height": 426
        },
        "id": "DKfuQwbyTYiX",
        "outputId": "af63d908-02c6-447a-d502-453df2eca3ab"
      },
      "source": [
        "dataset.loc[dataset.redshift<=1.00]"
      ],
      "execution_count": null,
      "outputs": [
        {
          "output_type": "execute_result",
          "data": {
            "text/html": [
              "<div>\n",
              "<style scoped>\n",
              "    .dataframe tbody tr th:only-of-type {\n",
              "        vertical-align: middle;\n",
              "    }\n",
              "\n",
              "    .dataframe tbody tr th {\n",
              "        vertical-align: top;\n",
              "    }\n",
              "\n",
              "    .dataframe thead th {\n",
              "        text-align: right;\n",
              "    }\n",
              "</style>\n",
              "<table border=\"1\" class=\"dataframe\">\n",
              "  <thead>\n",
              "    <tr style=\"text-align: right;\">\n",
              "      <th></th>\n",
              "      <th>objid</th>\n",
              "      <th>modelMag_u</th>\n",
              "      <th>modelMag_g</th>\n",
              "      <th>modelMag_r</th>\n",
              "      <th>modelMag_i</th>\n",
              "      <th>modelMag_z</th>\n",
              "      <th>fiberMag_u</th>\n",
              "      <th>fiberMag_g</th>\n",
              "      <th>fiberMag_r</th>\n",
              "      <th>fiberMag_i</th>\n",
              "      <th>fiberMag_z</th>\n",
              "      <th>petroR50_r</th>\n",
              "      <th>petroR90_r</th>\n",
              "      <th>petroR50_z</th>\n",
              "      <th>petroR90_z</th>\n",
              "      <th>r</th>\n",
              "      <th>i</th>\n",
              "      <th>z</th>\n",
              "      <th>redshift</th>\n",
              "      <th>zerr</th>\n",
              "      <th>mmug</th>\n",
              "      <th>mmgr</th>\n",
              "      <th>mmri</th>\n",
              "      <th>mmiz</th>\n",
              "      <th>mfug</th>\n",
              "      <th>mfgr</th>\n",
              "      <th>mfri</th>\n",
              "      <th>mfiz</th>\n",
              "    </tr>\n",
              "  </thead>\n",
              "  <tbody>\n",
              "    <tr>\n",
              "      <th>2</th>\n",
              "      <td>1.237680e+18</td>\n",
              "      <td>23.74654</td>\n",
              "      <td>23.19651</td>\n",
              "      <td>22.01303</td>\n",
              "      <td>20.80744</td>\n",
              "      <td>19.91660</td>\n",
              "      <td>24.60136</td>\n",
              "      <td>23.64122</td>\n",
              "      <td>22.48040</td>\n",
              "      <td>21.31004</td>\n",
              "      <td>20.34262</td>\n",
              "      <td>0.645596</td>\n",
              "      <td>1.295767</td>\n",
              "      <td>0.923503</td>\n",
              "      <td>2.043880</td>\n",
              "      <td>22.01303</td>\n",
              "      <td>20.80744</td>\n",
              "      <td>19.91660</td>\n",
              "      <td>0.814588</td>\n",
              "      <td>0.000212</td>\n",
              "      <td>23.471525</td>\n",
              "      <td>22.604770</td>\n",
              "      <td>21.410235</td>\n",
              "      <td>20.362020</td>\n",
              "      <td>24.121290</td>\n",
              "      <td>23.060810</td>\n",
              "      <td>21.895220</td>\n",
              "      <td>20.826330</td>\n",
              "    </tr>\n",
              "    <tr>\n",
              "      <th>8</th>\n",
              "      <td>1.237680e+18</td>\n",
              "      <td>22.18754</td>\n",
              "      <td>20.26853</td>\n",
              "      <td>18.66873</td>\n",
              "      <td>17.98356</td>\n",
              "      <td>17.62037</td>\n",
              "      <td>23.20970</td>\n",
              "      <td>21.22479</td>\n",
              "      <td>19.63727</td>\n",
              "      <td>18.96273</td>\n",
              "      <td>18.58847</td>\n",
              "      <td>1.641699</td>\n",
              "      <td>5.231110</td>\n",
              "      <td>1.148053</td>\n",
              "      <td>3.031853</td>\n",
              "      <td>18.66873</td>\n",
              "      <td>17.98356</td>\n",
              "      <td>17.62037</td>\n",
              "      <td>0.414405</td>\n",
              "      <td>0.000028</td>\n",
              "      <td>21.228035</td>\n",
              "      <td>19.468630</td>\n",
              "      <td>18.326145</td>\n",
              "      <td>17.801965</td>\n",
              "      <td>22.217245</td>\n",
              "      <td>20.431030</td>\n",
              "      <td>19.300000</td>\n",
              "      <td>18.775600</td>\n",
              "    </tr>\n",
              "    <tr>\n",
              "      <th>12</th>\n",
              "      <td>1.237680e+18</td>\n",
              "      <td>19.85871</td>\n",
              "      <td>19.78292</td>\n",
              "      <td>19.52230</td>\n",
              "      <td>19.55171</td>\n",
              "      <td>19.33732</td>\n",
              "      <td>20.18514</td>\n",
              "      <td>20.09453</td>\n",
              "      <td>19.86055</td>\n",
              "      <td>19.90843</td>\n",
              "      <td>19.63532</td>\n",
              "      <td>0.611777</td>\n",
              "      <td>1.311494</td>\n",
              "      <td>0.584768</td>\n",
              "      <td>1.259439</td>\n",
              "      <td>19.52230</td>\n",
              "      <td>19.55171</td>\n",
              "      <td>19.33732</td>\n",
              "      <td>0.949956</td>\n",
              "      <td>0.000157</td>\n",
              "      <td>19.820815</td>\n",
              "      <td>19.652610</td>\n",
              "      <td>19.537005</td>\n",
              "      <td>19.444515</td>\n",
              "      <td>20.139835</td>\n",
              "      <td>19.977540</td>\n",
              "      <td>19.884490</td>\n",
              "      <td>19.771875</td>\n",
              "    </tr>\n",
              "    <tr>\n",
              "      <th>15</th>\n",
              "      <td>1.237680e+18</td>\n",
              "      <td>20.89670</td>\n",
              "      <td>20.47772</td>\n",
              "      <td>20.32096</td>\n",
              "      <td>20.23001</td>\n",
              "      <td>19.98116</td>\n",
              "      <td>21.25896</td>\n",
              "      <td>20.76655</td>\n",
              "      <td>20.65870</td>\n",
              "      <td>20.54609</td>\n",
              "      <td>20.17305</td>\n",
              "      <td>0.575010</td>\n",
              "      <td>1.252485</td>\n",
              "      <td>0.655031</td>\n",
              "      <td>1.284499</td>\n",
              "      <td>20.32096</td>\n",
              "      <td>20.23001</td>\n",
              "      <td>19.98116</td>\n",
              "      <td>0.703552</td>\n",
              "      <td>0.000085</td>\n",
              "      <td>20.687210</td>\n",
              "      <td>20.399340</td>\n",
              "      <td>20.275485</td>\n",
              "      <td>20.105585</td>\n",
              "      <td>21.012755</td>\n",
              "      <td>20.712625</td>\n",
              "      <td>20.602395</td>\n",
              "      <td>20.359570</td>\n",
              "    </tr>\n",
              "    <tr>\n",
              "      <th>16</th>\n",
              "      <td>1.237680e+18</td>\n",
              "      <td>20.44421</td>\n",
              "      <td>20.43502</td>\n",
              "      <td>20.29807</td>\n",
              "      <td>20.28478</td>\n",
              "      <td>19.87277</td>\n",
              "      <td>20.77106</td>\n",
              "      <td>20.74594</td>\n",
              "      <td>20.66329</td>\n",
              "      <td>20.64881</td>\n",
              "      <td>20.01088</td>\n",
              "      <td>0.663572</td>\n",
              "      <td>1.540812</td>\n",
              "      <td>0.928312</td>\n",
              "      <td>2.238584</td>\n",
              "      <td>20.29807</td>\n",
              "      <td>20.28478</td>\n",
              "      <td>19.87277</td>\n",
              "      <td>0.918946</td>\n",
              "      <td>0.000792</td>\n",
              "      <td>20.439615</td>\n",
              "      <td>20.366545</td>\n",
              "      <td>20.291425</td>\n",
              "      <td>20.078775</td>\n",
              "      <td>20.758500</td>\n",
              "      <td>20.704615</td>\n",
              "      <td>20.656050</td>\n",
              "      <td>20.329845</td>\n",
              "    </tr>\n",
              "    <tr>\n",
              "      <th>...</th>\n",
              "      <td>...</td>\n",
              "      <td>...</td>\n",
              "      <td>...</td>\n",
              "      <td>...</td>\n",
              "      <td>...</td>\n",
              "      <td>...</td>\n",
              "      <td>...</td>\n",
              "      <td>...</td>\n",
              "      <td>...</td>\n",
              "      <td>...</td>\n",
              "      <td>...</td>\n",
              "      <td>...</td>\n",
              "      <td>...</td>\n",
              "      <td>...</td>\n",
              "      <td>...</td>\n",
              "      <td>...</td>\n",
              "      <td>...</td>\n",
              "      <td>...</td>\n",
              "      <td>...</td>\n",
              "      <td>...</td>\n",
              "      <td>...</td>\n",
              "      <td>...</td>\n",
              "      <td>...</td>\n",
              "      <td>...</td>\n",
              "      <td>...</td>\n",
              "      <td>...</td>\n",
              "      <td>...</td>\n",
              "      <td>...</td>\n",
              "    </tr>\n",
              "    <tr>\n",
              "      <th>3651918</th>\n",
              "      <td>1.237680e+18</td>\n",
              "      <td>23.55071</td>\n",
              "      <td>22.16176</td>\n",
              "      <td>21.42934</td>\n",
              "      <td>20.33605</td>\n",
              "      <td>19.45292</td>\n",
              "      <td>23.36273</td>\n",
              "      <td>22.77520</td>\n",
              "      <td>22.04431</td>\n",
              "      <td>20.97781</td>\n",
              "      <td>20.16630</td>\n",
              "      <td>0.902360</td>\n",
              "      <td>1.541793</td>\n",
              "      <td>1.343559</td>\n",
              "      <td>3.721590</td>\n",
              "      <td>21.42934</td>\n",
              "      <td>20.33605</td>\n",
              "      <td>19.45292</td>\n",
              "      <td>0.821233</td>\n",
              "      <td>0.000099</td>\n",
              "      <td>22.856235</td>\n",
              "      <td>21.795550</td>\n",
              "      <td>20.882695</td>\n",
              "      <td>19.894485</td>\n",
              "      <td>23.068965</td>\n",
              "      <td>22.409755</td>\n",
              "      <td>21.511060</td>\n",
              "      <td>20.572055</td>\n",
              "    </tr>\n",
              "    <tr>\n",
              "      <th>3651919</th>\n",
              "      <td>1.237680e+18</td>\n",
              "      <td>21.86682</td>\n",
              "      <td>21.68359</td>\n",
              "      <td>21.37104</td>\n",
              "      <td>20.90272</td>\n",
              "      <td>20.47265</td>\n",
              "      <td>22.26036</td>\n",
              "      <td>22.02081</td>\n",
              "      <td>21.73457</td>\n",
              "      <td>21.26240</td>\n",
              "      <td>20.82135</td>\n",
              "      <td>0.718134</td>\n",
              "      <td>2.003701</td>\n",
              "      <td>0.557928</td>\n",
              "      <td>1.077190</td>\n",
              "      <td>21.37104</td>\n",
              "      <td>20.90272</td>\n",
              "      <td>20.47265</td>\n",
              "      <td>0.758018</td>\n",
              "      <td>0.000141</td>\n",
              "      <td>21.775205</td>\n",
              "      <td>21.527315</td>\n",
              "      <td>21.136880</td>\n",
              "      <td>20.687685</td>\n",
              "      <td>22.140585</td>\n",
              "      <td>21.877690</td>\n",
              "      <td>21.498485</td>\n",
              "      <td>21.041875</td>\n",
              "    </tr>\n",
              "    <tr>\n",
              "      <th>3651923</th>\n",
              "      <td>1.237680e+18</td>\n",
              "      <td>22.31663</td>\n",
              "      <td>21.52032</td>\n",
              "      <td>21.18740</td>\n",
              "      <td>20.69922</td>\n",
              "      <td>20.88031</td>\n",
              "      <td>22.85945</td>\n",
              "      <td>21.85250</td>\n",
              "      <td>21.58473</td>\n",
              "      <td>21.05252</td>\n",
              "      <td>21.36186</td>\n",
              "      <td>0.579885</td>\n",
              "      <td>1.189824</td>\n",
              "      <td>0.323276</td>\n",
              "      <td>0.451393</td>\n",
              "      <td>21.18740</td>\n",
              "      <td>20.69922</td>\n",
              "      <td>20.88031</td>\n",
              "      <td>0.872583</td>\n",
              "      <td>0.000315</td>\n",
              "      <td>21.918475</td>\n",
              "      <td>21.353860</td>\n",
              "      <td>20.943310</td>\n",
              "      <td>20.789765</td>\n",
              "      <td>22.355975</td>\n",
              "      <td>21.718615</td>\n",
              "      <td>21.318625</td>\n",
              "      <td>21.207190</td>\n",
              "    </tr>\n",
              "    <tr>\n",
              "      <th>3651924</th>\n",
              "      <td>1.237680e+18</td>\n",
              "      <td>26.08879</td>\n",
              "      <td>21.83270</td>\n",
              "      <td>21.34898</td>\n",
              "      <td>21.18016</td>\n",
              "      <td>21.19683</td>\n",
              "      <td>24.59543</td>\n",
              "      <td>22.18032</td>\n",
              "      <td>21.70586</td>\n",
              "      <td>21.61914</td>\n",
              "      <td>21.71572</td>\n",
              "      <td>0.763872</td>\n",
              "      <td>2.007011</td>\n",
              "      <td>0.652313</td>\n",
              "      <td>2.680450</td>\n",
              "      <td>21.34898</td>\n",
              "      <td>21.18016</td>\n",
              "      <td>21.19683</td>\n",
              "      <td>0.430104</td>\n",
              "      <td>0.000104</td>\n",
              "      <td>23.960745</td>\n",
              "      <td>21.590840</td>\n",
              "      <td>21.264570</td>\n",
              "      <td>21.188495</td>\n",
              "      <td>23.387875</td>\n",
              "      <td>21.943090</td>\n",
              "      <td>21.662500</td>\n",
              "      <td>21.667430</td>\n",
              "    </tr>\n",
              "    <tr>\n",
              "      <th>3651928</th>\n",
              "      <td>1.237680e+18</td>\n",
              "      <td>19.75852</td>\n",
              "      <td>19.35878</td>\n",
              "      <td>19.18816</td>\n",
              "      <td>19.27560</td>\n",
              "      <td>19.14605</td>\n",
              "      <td>20.10190</td>\n",
              "      <td>19.68995</td>\n",
              "      <td>19.53116</td>\n",
              "      <td>19.63202</td>\n",
              "      <td>19.48096</td>\n",
              "      <td>0.617476</td>\n",
              "      <td>1.415241</td>\n",
              "      <td>0.599036</td>\n",
              "      <td>1.363397</td>\n",
              "      <td>19.18816</td>\n",
              "      <td>19.27560</td>\n",
              "      <td>19.14605</td>\n",
              "      <td>0.906366</td>\n",
              "      <td>0.000071</td>\n",
              "      <td>19.558650</td>\n",
              "      <td>19.273470</td>\n",
              "      <td>19.231880</td>\n",
              "      <td>19.210825</td>\n",
              "      <td>19.895925</td>\n",
              "      <td>19.610555</td>\n",
              "      <td>19.581590</td>\n",
              "      <td>19.556490</td>\n",
              "    </tr>\n",
              "  </tbody>\n",
              "</table>\n",
              "<p>2920238 rows × 28 columns</p>\n",
              "</div>"
            ],
            "text/plain": [
              "                objid  modelMag_u  modelMag_g  ...       mfgr       mfri       mfiz\n",
              "2        1.237680e+18    23.74654    23.19651  ...  23.060810  21.895220  20.826330\n",
              "8        1.237680e+18    22.18754    20.26853  ...  20.431030  19.300000  18.775600\n",
              "12       1.237680e+18    19.85871    19.78292  ...  19.977540  19.884490  19.771875\n",
              "15       1.237680e+18    20.89670    20.47772  ...  20.712625  20.602395  20.359570\n",
              "16       1.237680e+18    20.44421    20.43502  ...  20.704615  20.656050  20.329845\n",
              "...               ...         ...         ...  ...        ...        ...        ...\n",
              "3651918  1.237680e+18    23.55071    22.16176  ...  22.409755  21.511060  20.572055\n",
              "3651919  1.237680e+18    21.86682    21.68359  ...  21.877690  21.498485  21.041875\n",
              "3651923  1.237680e+18    22.31663    21.52032  ...  21.718615  21.318625  21.207190\n",
              "3651924  1.237680e+18    26.08879    21.83270  ...  21.943090  21.662500  21.667430\n",
              "3651928  1.237680e+18    19.75852    19.35878  ...  19.610555  19.581590  19.556490\n",
              "\n",
              "[2920238 rows x 28 columns]"
            ]
          },
          "metadata": {
            "tags": []
          },
          "execution_count": 7
        }
      ]
    },
    {
      "cell_type": "code",
      "metadata": {
        "colab": {
          "base_uri": "https://localhost:8080/",
          "height": 217
        },
        "id": "FHhhdDHNaZGZ",
        "outputId": "1d3bf94f-bae3-47e9-d9bc-b32e9b9fc89e"
      },
      "source": [
        "dataset.head()"
      ],
      "execution_count": null,
      "outputs": [
        {
          "output_type": "execute_result",
          "data": {
            "text/html": [
              "<div>\n",
              "<style scoped>\n",
              "    .dataframe tbody tr th:only-of-type {\n",
              "        vertical-align: middle;\n",
              "    }\n",
              "\n",
              "    .dataframe tbody tr th {\n",
              "        vertical-align: top;\n",
              "    }\n",
              "\n",
              "    .dataframe thead th {\n",
              "        text-align: right;\n",
              "    }\n",
              "</style>\n",
              "<table border=\"1\" class=\"dataframe\">\n",
              "  <thead>\n",
              "    <tr style=\"text-align: right;\">\n",
              "      <th></th>\n",
              "      <th>objid</th>\n",
              "      <th>modelMag_u</th>\n",
              "      <th>modelMag_g</th>\n",
              "      <th>modelMag_r</th>\n",
              "      <th>modelMag_i</th>\n",
              "      <th>modelMag_z</th>\n",
              "      <th>fiberMag_u</th>\n",
              "      <th>fiberMag_g</th>\n",
              "      <th>fiberMag_r</th>\n",
              "      <th>fiberMag_i</th>\n",
              "      <th>fiberMag_z</th>\n",
              "      <th>petroR50_r</th>\n",
              "      <th>petroR90_r</th>\n",
              "      <th>petroR50_z</th>\n",
              "      <th>petroR90_z</th>\n",
              "      <th>r</th>\n",
              "      <th>i</th>\n",
              "      <th>z</th>\n",
              "      <th>redshift</th>\n",
              "      <th>zerr</th>\n",
              "      <th>mmug</th>\n",
              "      <th>mmgr</th>\n",
              "      <th>mmri</th>\n",
              "      <th>mmiz</th>\n",
              "      <th>mfug</th>\n",
              "      <th>mfgr</th>\n",
              "      <th>mfri</th>\n",
              "      <th>mfiz</th>\n",
              "    </tr>\n",
              "  </thead>\n",
              "  <tbody>\n",
              "    <tr>\n",
              "      <th>0</th>\n",
              "      <td>1.237680e+18</td>\n",
              "      <td>21.63269</td>\n",
              "      <td>21.27911</td>\n",
              "      <td>21.22550</td>\n",
              "      <td>20.95690</td>\n",
              "      <td>20.82752</td>\n",
              "      <td>22.05036</td>\n",
              "      <td>21.62439</td>\n",
              "      <td>21.64663</td>\n",
              "      <td>21.32027</td>\n",
              "      <td>21.40336</td>\n",
              "      <td>0.562805</td>\n",
              "      <td>1.068754</td>\n",
              "      <td>0.166565</td>\n",
              "      <td>0.238479</td>\n",
              "      <td>21.22550</td>\n",
              "      <td>20.95690</td>\n",
              "      <td>20.82752</td>\n",
              "      <td>1.839604</td>\n",
              "      <td>0.001146</td>\n",
              "      <td>21.455900</td>\n",
              "      <td>21.252305</td>\n",
              "      <td>21.091200</td>\n",
              "      <td>20.89221</td>\n",
              "      <td>21.837375</td>\n",
              "      <td>21.635510</td>\n",
              "      <td>21.48345</td>\n",
              "      <td>21.361815</td>\n",
              "    </tr>\n",
              "    <tr>\n",
              "      <th>1</th>\n",
              "      <td>1.237680e+18</td>\n",
              "      <td>19.74829</td>\n",
              "      <td>19.45819</td>\n",
              "      <td>19.33118</td>\n",
              "      <td>19.01371</td>\n",
              "      <td>18.80369</td>\n",
              "      <td>20.10190</td>\n",
              "      <td>19.79539</td>\n",
              "      <td>19.66580</td>\n",
              "      <td>19.35386</td>\n",
              "      <td>19.15471</td>\n",
              "      <td>0.631004</td>\n",
              "      <td>1.339584</td>\n",
              "      <td>0.602479</td>\n",
              "      <td>1.350725</td>\n",
              "      <td>19.33118</td>\n",
              "      <td>19.01371</td>\n",
              "      <td>18.80369</td>\n",
              "      <td>2.069321</td>\n",
              "      <td>0.000354</td>\n",
              "      <td>19.603240</td>\n",
              "      <td>19.394685</td>\n",
              "      <td>19.172445</td>\n",
              "      <td>18.90870</td>\n",
              "      <td>19.948645</td>\n",
              "      <td>19.730595</td>\n",
              "      <td>19.50983</td>\n",
              "      <td>19.254285</td>\n",
              "    </tr>\n",
              "    <tr>\n",
              "      <th>2</th>\n",
              "      <td>1.237680e+18</td>\n",
              "      <td>23.74654</td>\n",
              "      <td>23.19651</td>\n",
              "      <td>22.01303</td>\n",
              "      <td>20.80744</td>\n",
              "      <td>19.91660</td>\n",
              "      <td>24.60136</td>\n",
              "      <td>23.64122</td>\n",
              "      <td>22.48040</td>\n",
              "      <td>21.31004</td>\n",
              "      <td>20.34262</td>\n",
              "      <td>0.645596</td>\n",
              "      <td>1.295767</td>\n",
              "      <td>0.923503</td>\n",
              "      <td>2.043880</td>\n",
              "      <td>22.01303</td>\n",
              "      <td>20.80744</td>\n",
              "      <td>19.91660</td>\n",
              "      <td>0.814588</td>\n",
              "      <td>0.000212</td>\n",
              "      <td>23.471525</td>\n",
              "      <td>22.604770</td>\n",
              "      <td>21.410235</td>\n",
              "      <td>20.36202</td>\n",
              "      <td>24.121290</td>\n",
              "      <td>23.060810</td>\n",
              "      <td>21.89522</td>\n",
              "      <td>20.826330</td>\n",
              "    </tr>\n",
              "    <tr>\n",
              "      <th>3</th>\n",
              "      <td>1.237680e+18</td>\n",
              "      <td>20.63075</td>\n",
              "      <td>20.25426</td>\n",
              "      <td>20.04478</td>\n",
              "      <td>19.79378</td>\n",
              "      <td>19.70326</td>\n",
              "      <td>20.99431</td>\n",
              "      <td>20.60174</td>\n",
              "      <td>20.40031</td>\n",
              "      <td>20.19795</td>\n",
              "      <td>19.95800</td>\n",
              "      <td>0.657796</td>\n",
              "      <td>1.482055</td>\n",
              "      <td>0.764345</td>\n",
              "      <td>1.480650</td>\n",
              "      <td>20.04478</td>\n",
              "      <td>19.79378</td>\n",
              "      <td>19.70326</td>\n",
              "      <td>1.455912</td>\n",
              "      <td>0.000394</td>\n",
              "      <td>20.442505</td>\n",
              "      <td>20.149520</td>\n",
              "      <td>19.919280</td>\n",
              "      <td>19.74852</td>\n",
              "      <td>20.798025</td>\n",
              "      <td>20.501025</td>\n",
              "      <td>20.29913</td>\n",
              "      <td>20.077975</td>\n",
              "    </tr>\n",
              "    <tr>\n",
              "      <th>4</th>\n",
              "      <td>1.237680e+18</td>\n",
              "      <td>21.38126</td>\n",
              "      <td>21.13488</td>\n",
              "      <td>21.09993</td>\n",
              "      <td>20.92882</td>\n",
              "      <td>20.80634</td>\n",
              "      <td>21.85225</td>\n",
              "      <td>21.45860</td>\n",
              "      <td>21.45340</td>\n",
              "      <td>21.19782</td>\n",
              "      <td>20.63075</td>\n",
              "      <td>0.728897</td>\n",
              "      <td>2.212801</td>\n",
              "      <td>1.027675</td>\n",
              "      <td>1.458456</td>\n",
              "      <td>21.09993</td>\n",
              "      <td>20.92882</td>\n",
              "      <td>20.80634</td>\n",
              "      <td>1.651130</td>\n",
              "      <td>0.000760</td>\n",
              "      <td>21.258070</td>\n",
              "      <td>21.117405</td>\n",
              "      <td>21.014375</td>\n",
              "      <td>20.86758</td>\n",
              "      <td>21.655425</td>\n",
              "      <td>21.456000</td>\n",
              "      <td>21.32561</td>\n",
              "      <td>20.914285</td>\n",
              "    </tr>\n",
              "  </tbody>\n",
              "</table>\n",
              "</div>"
            ],
            "text/plain": [
              "          objid  modelMag_u  modelMag_g  ...       mfgr      mfri       mfiz\n",
              "0  1.237680e+18    21.63269    21.27911  ...  21.635510  21.48345  21.361815\n",
              "1  1.237680e+18    19.74829    19.45819  ...  19.730595  19.50983  19.254285\n",
              "2  1.237680e+18    23.74654    23.19651  ...  23.060810  21.89522  20.826330\n",
              "3  1.237680e+18    20.63075    20.25426  ...  20.501025  20.29913  20.077975\n",
              "4  1.237680e+18    21.38126    21.13488  ...  21.456000  21.32561  20.914285\n",
              "\n",
              "[5 rows x 28 columns]"
            ]
          },
          "metadata": {
            "tags": []
          },
          "execution_count": 8
        }
      ]
    },
    {
      "cell_type": "code",
      "metadata": {
        "id": "6CfX4iuaaaS9"
      },
      "source": [
        "#these columns are not required\n",
        "dataset.drop(['objid'], axis = 1,inplace=True) #dropping objid column\n",
        "dataset.drop(['zerr'], axis = 1,inplace=True) #dropping zerr column"
      ],
      "execution_count": null,
      "outputs": []
    },
    {
      "cell_type": "code",
      "metadata": {
        "id": "9ZJ8jN1jamBl"
      },
      "source": [
        "dataset[dataset[\"modelMag_u\"]==-9999]=np.nan\n",
        "dataset[dataset[\"modelMag_g\"]==-9999]=np.nan\n",
        "dataset[dataset[\"modelMag_r\"]==-9999]=np.nan\n",
        "dataset[dataset[\"modelMag_i\"]==-9999]=np.nan\n",
        "dataset[dataset[\"modelMag_z\"]==-9999]=np.nan\n",
        "dataset[dataset[\"fiberMag_u\"]==-9999]=np.nan\n",
        "dataset[dataset[\"fiberMag_g\"]==-9999]=np.nan\n",
        "dataset[dataset[\"fiberMag_r\"]==-9999]=np.nan\n",
        "dataset[dataset[\"fiberMag_i\"]==-9999]=np.nan\n",
        "dataset[dataset[\"fiberMag_z\"]==-9999]=np.nan\n",
        "dataset[dataset[\"petroR50_r\"]==-9999]=np.nan\n",
        "dataset[dataset[\"petroR90_r\"]==-9999]=np.nan\n",
        "dataset[dataset[\"petroR50_z\"]==-9999]=np.nan\n",
        "dataset[dataset[\"petroR90_z\"]==-9999]=np.nan\n",
        "dataset[dataset[\"mmug\"]==-9999]=np.nan\n",
        "dataset[dataset[\"mmgr\"]==-9999]=np.nan\n",
        "dataset[dataset[\"mmri\"]==-9999]=np.nan\n",
        "dataset[dataset[\"mmiz\"]==-9999]=np.nan\n",
        "dataset[dataset[\"mfug\"]==-9999]=np.nan\n",
        "dataset[dataset[\"mfgr\"]==-9999]=np.nan\n",
        "dataset[dataset[\"mfri\"]==-9999]=np.nan\n",
        "dataset[dataset[\"mfiz\"]==-9999]=np.nan\n",
        "dataset[dataset[\"r\"]==-9999]=np.nan\n",
        "dataset[dataset[\"i\"]==-9999]=np.nan\n",
        "dataset[dataset[\"z\"]==-9999]=np.nan\n",
        "dataset[dataset[\"redshift\"]==-9999]=np.nan\n",
        "dataset[dataset[\"redshift\"]<0]=np.nan"
      ],
      "execution_count": null,
      "outputs": []
    },
    {
      "cell_type": "code",
      "metadata": {
        "colab": {
          "base_uri": "https://localhost:8080/"
        },
        "id": "egxJXpvEapF3",
        "outputId": "4c961e53-f6fd-445f-8bf4-f30977fad522"
      },
      "source": [
        "#Dropping null values\n",
        "dataset=dataset.dropna()\n",
        "dataset.shape"
      ],
      "execution_count": null,
      "outputs": [
        {
          "output_type": "execute_result",
          "data": {
            "text/plain": [
              "(3548153, 26)"
            ]
          },
          "metadata": {
            "tags": []
          },
          "execution_count": 11
        }
      ]
    },
    {
      "cell_type": "code",
      "metadata": {
        "colab": {
          "base_uri": "https://localhost:8080/",
          "height": 298
        },
        "id": "9srDDSAmar_Z",
        "outputId": "089374cf-cdc2-4f41-db70-dadfcf4adceb"
      },
      "source": [
        "#checking the data distribution\n",
        "plt.hist(dataset['redshift'], bins=50, alpha=0.7)\n",
        "plt.xlabel('SpecZ')\n",
        "plt.ylabel('Number of samples')"
      ],
      "execution_count": null,
      "outputs": [
        {
          "output_type": "execute_result",
          "data": {
            "text/plain": [
              "Text(0, 0.5, 'Number of samples')"
            ]
          },
          "metadata": {
            "tags": []
          },
          "execution_count": 7
        },
        {
          "output_type": "display_data",
          "data": {
            "image/png": "[encoded data removed]",
            "text/plain": [
              "<Figure size 432x288 with 1 Axes>"
            ]
          },
          "metadata": {
            "tags": []
          }
        }
      ]
    },
    {
      "cell_type": "code",
      "metadata": {
        "id": "DZ0Gyj31HhFd"
      },
      "source": [
        ""
      ],
      "execution_count": null,
      "outputs": []
    },
    {
      "cell_type": "code",
      "metadata": {
        "colab": {
          "base_uri": "https://localhost:8080/"
        },
        "id": "pZLdully1CMb",
        "outputId": "786b3a15-a7c1-4480-a4d7-7a94af0640bf"
      },
      "source": [
        "dataset['redshift'].value_counts(bins=10, sort=False) # counting data in a specified range based on redshift"
      ],
      "execution_count": null,
      "outputs": [
        {
          "output_type": "execute_result",
          "data": {
            "text/plain": [
              "(-0.00805, 0.705]    2474629\n",
              "(0.705, 1.41]         574322\n",
              "(1.41, 2.116]         254737\n",
              "(2.116, 2.821]        173106\n",
              "(2.821, 3.526]         49167\n",
              "(3.526, 4.231]         10443\n",
              "(4.231, 4.936]          2912\n",
              "(4.936, 5.642]          2189\n",
              "(5.642, 6.347]          2623\n",
              "(6.347, 7.052]          4025\n",
              "Name: redshift, dtype: int64"
            ]
          },
          "metadata": {
            "tags": []
          },
          "execution_count": 11
        }
      ]
    },
    {
      "cell_type": "code",
      "metadata": {
        "id": "7S392hWIRY_g"
      },
      "source": [
        "def getClass(value):\n",
        "  if value>=0.00 and value<1.0:\n",
        "    return '1'\n",
        "  elif value>=1.00 and value<2.0:\n",
        "    return '2'\n",
        "  elif value>=2.00 and value<3.0:\n",
        "    return '3'\n",
        "  elif value>=3.00 and value<4.0:\n",
        "    return '4'\n",
        "  elif value>=4.00 and value<5.0:\n",
        "    return '5'\n",
        "  elif value>=5.00 and value<6.0:\n",
        "    return '6'\n",
        "  elif value>=6.00 and value<=7.0:\n",
        "    return '7'"
      ],
      "execution_count": null,
      "outputs": []
    },
    {
      "cell_type": "code",
      "metadata": {
        "colab": {
          "base_uri": "https://localhost:8080/"
        },
        "id": "MnZmbh9ab2Zr",
        "outputId": "d207d9fa-1116-430a-e2c1-786b98eb937d"
      },
      "source": [
        "##dataset['Class']=dataset['redshift'].apply(lambda x: cls(x))\n",
        "#dataset['Class']=dataset['redshift'].apply(lambda x: 0 if x<1.0 else 1)\n",
        "dataset['Class']=dataset['redshift'].apply(lambda x: getClass(x))\n",
        "dataset=dataset.dropna()\n",
        "dataset.shape\n",
        "#dataset.loc[dataset['redshift'] >0.00 , 'Class']='A'"
      ],
      "execution_count": null,
      "outputs": [
        {
          "output_type": "execute_result",
          "data": {
            "text/plain": [
              "(3547386, 27)"
            ]
          },
          "metadata": {
            "tags": []
          },
          "execution_count": 7
        }
      ]
    },
    {
      "cell_type": "code",
      "metadata": {
        "colab": {
          "base_uri": "https://localhost:8080/"
        },
        "id": "9blw7sBISt8c",
        "outputId": "7f647fe6-734b-4379-eeda-84193fa8408e"
      },
      "source": [
        "dataset.Class.value_counts()"
      ],
      "execution_count": null,
      "outputs": [
        {
          "output_type": "execute_result",
          "data": {
            "text/plain": [
              "1    2858292\n",
              "2     411157\n",
              "3     226041\n",
              "4      39072\n",
              "5       4935\n",
              "7       4465\n",
              "6       3424\n",
              "Name: Class, dtype: int64"
            ]
          },
          "metadata": {
            "tags": []
          },
          "execution_count": 14
        }
      ]
    },
    {
      "cell_type": "code",
      "metadata": {
        "id": "wjw5_tXEpRwy"
      },
      "source": [
        "df_1=dataset[dataset.Class=='1']\n",
        "df_2=dataset[dataset.Class=='2']\n",
        "df_3=dataset[dataset.Class=='3']\n",
        "df_4=dataset[dataset.Class=='4']\n",
        "df_5=dataset[dataset.Class=='5']\n",
        "df_6=dataset[dataset.Class=='6']\n",
        "df_7=dataset[dataset.Class=='7']"
      ],
      "execution_count": null,
      "outputs": []
    },
    {
      "cell_type": "code",
      "metadata": {
        "id": "GbsIwvzrqAX3"
      },
      "source": [
        "from sklearn.utils import resample\n",
        "df_1=resample(df_1,replace=True,n_samples=513814,random_state=123) \n",
        "df_2=resample(df_2,replace=True,n_samples=513814,random_state=123) \n",
        "df_3=resample(df_3,replace=True,n_samples=513814,random_state=123) \n",
        "df_4=resample(df_4,replace=True,n_samples=513814,random_state=123) \n",
        "df_5=resample(df_5,replace=True,n_samples=513814,random_state=123) \n",
        "df_6=resample(df_6,replace=True,n_samples=513814,random_state=123) \n",
        "df_7=resample(df_7,replace=True,n_samples=513814,random_state=123) \n",
        " "
      ],
      "execution_count": null,
      "outputs": []
    },
    {
      "cell_type": "code",
      "metadata": {
        "id": "YWhYS1uIrmPh"
      },
      "source": [
        "dataset=pd.concat([df_1,df_2,df_3,df_4,df_5,df_6,df_7])"
      ],
      "execution_count": null,
      "outputs": []
    },
    {
      "cell_type": "code",
      "metadata": {
        "colab": {
          "base_uri": "https://localhost:8080/"
        },
        "id": "UaeW6cZrr4Ku",
        "outputId": "324ef5c0-7117-415d-dbee-e0dec949d779"
      },
      "source": [
        "dataset.shape"
      ],
      "execution_count": null,
      "outputs": [
        {
          "output_type": "execute_result",
          "data": {
            "text/plain": [
              "(3596698, 27)"
            ]
          },
          "metadata": {
            "tags": []
          },
          "execution_count": 53
        }
      ]
    },
    {
      "cell_type": "code",
      "metadata": {
        "colab": {
          "base_uri": "https://localhost:8080/",
          "height": 295
        },
        "id": "9A7k9dkAsHuA",
        "outputId": "3250fb02-5c92-4f8e-f61a-0b685f46adea"
      },
      "source": [
        "plt.hist(dataset['redshift'], bins=50, alpha=0.7)\n",
        "plt.xlabel('SpecZ')\n",
        "plt.ylabel('Number of samples')"
      ],
      "execution_count": null,
      "outputs": [
        {
          "output_type": "execute_result",
          "data": {
            "text/plain": [
              "Text(0, 0.5, 'Number of samples')"
            ]
          },
          "metadata": {
            "tags": []
          },
          "execution_count": 54
        },
        {
          "output_type": "display_data",
          "data": {
            "image/png": "[encoded data removed]",
            "text/plain": [
              "<Figure size 432x288 with 1 Axes>"
            ]
          },
          "metadata": {
            "tags": []
          }
        }
      ]
    },
    {
      "cell_type": "code",
      "metadata": {
        "id": "NO_ZZQxM6kRV"
      },
      "source": [
        "del dataset['Class']"
      ],
      "execution_count": null,
      "outputs": []
    },
    {
      "cell_type": "code",
      "metadata": {
        "id": "CqzSWTqS6tIt"
      },
      "source": [
        "X=dataset.drop('redshift',axis=1)\n",
        "Y=dataset['redshift']"
      ],
      "execution_count": null,
      "outputs": []
    },
    {
      "cell_type": "code",
      "metadata": {
        "colab": {
          "base_uri": "https://localhost:8080/"
        },
        "id": "SfGLFgVzO9Uw",
        "outputId": "815c7fc8-167c-4d7c-d408-f6f30b816b2b"
      },
      "source": [
        "Y.max()\n"
      ],
      "execution_count": null,
      "outputs": [
        {
          "output_type": "execute_result",
          "data": {
            "text/plain": [
              "6.999911"
            ]
          },
          "metadata": {
            "tags": []
          },
          "execution_count": 20
        }
      ]
    },
    {
      "cell_type": "code",
      "metadata": {
        "colab": {
          "base_uri": "https://localhost:8080/"
        },
        "id": "KcBQ0kn8PEeN",
        "outputId": "ecc29292-9a0f-4faf-fd7a-5ca6d6425bd2"
      },
      "source": [
        "Y.min()"
      ],
      "execution_count": null,
      "outputs": [
        {
          "output_type": "execute_result",
          "data": {
            "text/plain": [
              "0.0"
            ]
          },
          "metadata": {
            "tags": []
          },
          "execution_count": 42
        }
      ]
    },
    {
      "cell_type": "code",
      "metadata": {
        "colab": {
          "base_uri": "https://localhost:8080/"
        },
        "id": "NEI1EJeF2SAr",
        "outputId": "ef6c0b8c-59a4-49ed-b5a7-3744000a6bce"
      },
      "source": [
        "scaler = MinMaxScaler()\n",
        "X = scaler.fit_transform(X)\n",
        "print(X)\n",
        "X.shape"
      ],
      "execution_count": null,
      "outputs": [
        {
          "output_type": "stream",
          "text": [
            "[[0.66375676 0.61197827 0.53750891 ... 0.70085862 0.55865358 0.60254633]\n",
            " [0.71891046 0.57464808 0.51587512 ... 0.66379014 0.53720943 0.57271676]\n",
            " [0.46209821 0.44245331 0.3741607  ... 0.45471058 0.36655347 0.42050882]\n",
            " ...\n",
            " [0.56130376 0.60101241 0.55881407 ... 0.7139768  0.63467415 0.69779779]\n",
            " [0.58673038 0.67529803 0.59342615 ... 0.7724896  0.62715715 0.65735433]\n",
            " [0.52469998 0.57536355 0.5584971  ... 0.65070576 0.59626463 0.66339623]]\n"
          ],
          "name": "stdout"
        },
        {
          "output_type": "execute_result",
          "data": {
            "text/plain": [
              "(3596698, 25)"
            ]
          },
          "metadata": {
            "tags": []
          },
          "execution_count": 13
        }
      ]
    },
    {
      "cell_type": "code",
      "metadata": {
        "colab": {
          "base_uri": "https://localhost:8080/"
        },
        "id": "W695P9kt2ThV",
        "outputId": "33605889-a809-44dc-ce1c-608c8061e3d6"
      },
      "source": [
        "# Target vector\n",
        "y = dataset['redshift']\n",
        "print(y)"
      ],
      "execution_count": null,
      "outputs": [
        {
          "output_type": "stream",
          "text": [
            "982048     0.498486\n",
            "356674     0.560501\n",
            "36822      0.148298\n",
            "1584991    0.074713\n",
            "2492476    0.681300\n",
            "             ...   \n",
            "3635284    6.173983\n",
            "1983692    6.549440\n",
            "3512759    6.695148\n",
            "564131     6.820958\n",
            "2920048    6.139973\n",
            "Name: redshift, Length: 3596698, dtype: float64\n"
          ],
          "name": "stdout"
        }
      ]
    },
    {
      "cell_type": "code",
      "metadata": {
        "colab": {
          "base_uri": "https://localhost:8080/"
        },
        "id": "5cM_U-Q_Ff8c",
        "outputId": "bfd13fd7-f5dd-486c-80d2-35b6df2a92d3"
      },
      "source": [
        "y"
      ],
      "execution_count": null,
      "outputs": [
        {
          "output_type": "execute_result",
          "data": {
            "text/plain": [
              "982048     0.498486\n",
              "356674     0.560501\n",
              "36822      0.148298\n",
              "1584991    0.074713\n",
              "2492476    0.681300\n",
              "             ...   \n",
              "3635284    6.173983\n",
              "1983692    6.549440\n",
              "3512759    6.695148\n",
              "564131     6.820958\n",
              "2920048    6.139973\n",
              "Name: redshift, Length: 3596698, dtype: float64"
            ]
          },
          "metadata": {
            "tags": []
          },
          "execution_count": 17
        }
      ]
    },
    {
      "cell_type": "code",
      "metadata": {
        "colab": {
          "base_uri": "https://localhost:8080/"
        },
        "id": "QOniKt7I2XRI",
        "outputId": "f5a0a8d1-a668-428e-a6ab-1e4f31877c6d"
      },
      "source": [
        "y=y.to_numpy() #pd needs to convert to numpy before applying minmaxscaler\n",
        "y=y.reshape(-1,1) # this is for using MinMAxscalerr\n",
        "print(y.shape)"
      ],
      "execution_count": null,
      "outputs": [
        {
          "output_type": "stream",
          "text": [
            "(3596698, 1)\n"
          ],
          "name": "stdout"
        }
      ]
    },
    {
      "cell_type": "code",
      "metadata": {
        "colab": {
          "base_uri": "https://localhost:8080/"
        },
        "id": "EcwE6tft2acv",
        "outputId": "ec50c3bc-6e18-4865-8d0e-f3ff5d938201"
      },
      "source": [
        "scaler = MinMaxScaler()\n",
        "y = scaler.fit_transform(y)\n",
        "print(y)"
      ],
      "execution_count": null,
      "outputs": [
        {
          "output_type": "stream",
          "text": [
            "[[0.07121319]\n",
            " [0.08007258]\n",
            " [0.02118568]\n",
            " ...\n",
            " [0.95646188]\n",
            " [0.97443496]\n",
            " [0.87715015]]\n"
          ],
          "name": "stdout"
        }
      ]
    },
    {
      "cell_type": "code",
      "metadata": {
        "id": "6tGUOMac2dxH"
      },
      "source": [
        "#user dfined function for train,test and validation\n",
        "def my_train_test_split(X, y, ratio_train, ratio_val, seed=42):\n",
        "    idx = np.arange(X.shape[0])\n",
        "    np.random.seed(seed)\n",
        "    np.random.shuffle(idx)\n",
        "\n",
        "    limit_train = int(ratio_train * X.shape[0])\n",
        "    limit_val = int((ratio_train + ratio_val) * X.shape[0])\n",
        "\n",
        "    idx_train = idx[:limit_train]\n",
        "    idx_val = idx[limit_train:limit_val]\n",
        "    idx_test = idx[limit_val:]\n",
        "\n",
        "    X_train, y_train = X[idx_train], y[idx_train]\n",
        "    X_val, y_val = X[idx_val], y[idx_val]\n",
        "    X_test, y_test = X[idx_test], y[idx_test]\n",
        "\n",
        "    return X_train, X_val, X_test, y_train, y_val, y_test"
      ],
      "execution_count": null,
      "outputs": []
    },
    {
      "cell_type": "code",
      "metadata": {
        "id": "Q-Wn4NoX2iXN"
      },
      "source": [
        "X_train, X_val, X_test, y_train, y_val, y_test = my_train_test_split(X, y, .75,.15,seed=42)"
      ],
      "execution_count": null,
      "outputs": []
    },
    {
      "cell_type": "code",
      "metadata": {
        "colab": {
          "base_uri": "https://localhost:8080/"
        },
        "id": "DbXrMBnB2oDM",
        "outputId": "e8048af6-3da8-44a5-8a2a-e5ac0f693b86"
      },
      "source": [
        "print(X_train.shape)\n",
        "print(X_val.shape)\n",
        "print(X_test.shape)\n",
        "print(y_train.shape)\n",
        "print(y_val.shape)\n",
        "print(y_test.shape)\n"
      ],
      "execution_count": null,
      "outputs": [
        {
          "output_type": "stream",
          "text": [
            "(2697523, 25)\n",
            "(539505, 25)\n",
            "(359670, 25)\n",
            "(2697523, 1)\n",
            "(539505, 1)\n",
            "(359670, 1)\n"
          ],
          "name": "stdout"
        }
      ]
    },
    {
      "cell_type": "code",
      "metadata": {
        "id": "F_XCGm4TeBCY"
      },
      "source": [
        "y_train=y_train.ravel()"
      ],
      "execution_count": null,
      "outputs": []
    },
    {
      "cell_type": "code",
      "metadata": {
        "colab": {
          "base_uri": "https://localhost:8080/"
        },
        "id": "BEu6rRXEeb4p",
        "outputId": "59d48c17-a18d-469c-90fd-108722409371"
      },
      "source": [
        "y_train.shape"
      ],
      "execution_count": null,
      "outputs": [
        {
          "output_type": "execute_result",
          "data": {
            "text/plain": [
              "(2697523,)"
            ]
          },
          "metadata": {
            "tags": []
          },
          "execution_count": 65
        }
      ]
    },
    {
      "cell_type": "code",
      "metadata": {
        "colab": {
          "base_uri": "https://localhost:8080/"
        },
        "id": "58ThmLufV5A3",
        "outputId": "fbc7d408-dd45-4e55-da71-282bf0cb9e97"
      },
      "source": [
        "#code for xtratree regressor\n",
        "from sklearn.datasets import make_regression\n",
        "from sklearn.ensemble import ExtraTreesRegressor\n",
        "import timeit\n",
        "start = timeit.default_timer()\n",
        "model = ExtraTreesRegressor(n_estimators=50, random_state=0)\n",
        "model.fit(X_train, y_train)\n",
        "stop = timeit.default_timer()\n",
        "print('Time: ', (stop - start)/60,'minutes')  \n"
      ],
      "execution_count": null,
      "outputs": [
        {
          "output_type": "stream",
          "text": [
            "Time:  16.827047789483334 minutes\n"
          ],
          "name": "stdout"
        }
      ]
    },
    {
      "cell_type": "code",
      "metadata": {
        "colab": {
          "base_uri": "https://localhost:8080/"
        },
        "id": "hu06O-6QmT18",
        "outputId": "d954b8d6-b94c-4447-b789-ee1eff45d2e7"
      },
      "source": [
        "y_pred_tree = model.predict(X_test)\n",
        "from sklearn import metrics\n",
        "from math import sqrt\n",
        "from sklearn.metrics import mean_squared_error\n",
        "var = metrics.explained_variance_score(y_test, y_pred_tree)\n",
        "mae = metrics.mean_absolute_error(y_test, y_pred_tree)\n",
        "mse = metrics.mean_squared_error(y_test, y_pred_tree)\n",
        "r2 = metrics.r2_score(y_test, y_pred_tree)\n",
        "rmse = sqrt(mean_squared_error(y_test, y_pred_tree))\n",
        "print ('Explained variance (best possible score is 1.0, lower values are worse):', var)\n",
        "print ('Mean Absolute Error (best is 0.0):', mae)\n",
        "print ('Mean Squared Error (best is 0.0):', mse)\n",
        "print ('R2 score (best is 1.0):', r2)\n",
        "print ('root Mean Squared Error (best is 0.0):', rmse)\n"
      ],
      "execution_count": null,
      "outputs": [
        {
          "output_type": "stream",
          "text": [
            "Explained variance (best possible score is 1.0, lower values are worse): 0.9923523713518858\n",
            "Mean Absolute Error (best is 0.0): 0.006432421829877173\n",
            "Mean Squared Error (best is 0.0): 0.0006700882832036021\n",
            "R2 score (best is 1.0): 0.9921968742036995\n",
            "root Mean Squared Error (best is 0.0): 0.025886063493772128\n"
          ],
          "name": "stdout"
        }
      ]
    },
    {
      "cell_type": "code",
      "metadata": {
        "colab": {
          "base_uri": "https://localhost:8080/"
        },
        "id": "PvjaIZa0AgC4",
        "outputId": "679d7c46-8354-437d-9f22-2152ee8efaa7"
      },
      "source": [
        "y_pred_tree"
      ],
      "execution_count": null,
      "outputs": [
        {
          "output_type": "execute_result",
          "data": {
            "text/plain": [
              "array([0.93430705, 0.99516788, 0.59575037, ..., 0.69537384, 0.85295113,\n",
              "       0.58018009])"
            ]
          },
          "metadata": {
            "tags": []
          },
          "execution_count": 69
        }
      ]
    },
    {
      "cell_type": "code",
      "metadata": {
        "colab": {
          "base_uri": "https://localhost:8080/"
        },
        "id": "KrP_Gq2Ighxe",
        "outputId": "cd56b362-63ba-4858-f400-a6b40f07ac71"
      },
      "source": [
        "y_test_tree=y_test\n",
        "y_test_tree=pd.DataFrame(y_test_tree)\n",
        "y_pred_tree=pd.DataFrame(y_pred_tree)\n",
        "outl=y_pred_tree[abs(y_test_tree-y_pred_tree)>0.1]\n",
        "outl=outl.dropna()\n",
        "print('Catastropic Outliers: ', outl.shape[0]*100.0/y_test.shape[0],'%')\n",
        "print('Total rms: ', np.sqrt(np.mean((y_test_tree-y_pred_tree)**2)))\n",
        "print('rms w/o outliers', np.sqrt(np.mean(((y_test_tree-y_pred_tree)[abs(y_test_tree-y_pred_tree)<0.1])**2)))\n",
        "print('Bias: ', np.mean(y_test_tree-y_pred_tree))\n",
        "print('Bias(median value of delta z):', np.median(y_test_tree-y_pred_tree))\n",
        "plt.show()\n",
        "\n",
        "delta_znorm=abs((y_test_tree-y_pred_tree)-np.median(y_pred_tree-y_test_tree)/(1+y_test_tree))\n",
        "NMAD=1.48*np.median(delta_znorm)\n",
        "print('NMAD: ', NMAD)"
      ],
      "execution_count": null,
      "outputs": [
        {
          "output_type": "stream",
          "text": [
            "Catastropic Outliers:  1.6303834070119831 %\n",
            "Total rms:  0    0.025886\n",
            "dtype: float64\n",
            "rms w/o outliers 0    0.013326\n",
            "dtype: float64\n",
            "Bias:  0   -0.003654\n",
            "dtype: float64\n",
            "Bias(median value of delta z): -1.1102230246251565e-16\n",
            "NMAD:  5.510970103487969e-06\n"
          ],
          "name": "stdout"
        }
      ]
    },
    {
      "cell_type": "code",
      "metadata": {
        "id": "njsL0QZWCE7n"
      },
      "source": [
        "y_test_tree=scaler.inverse_transform(y_test_tree)\n"
      ],
      "execution_count": null,
      "outputs": []
    },
    {
      "cell_type": "code",
      "metadata": {
        "id": "m4-06RxdQTA1"
      },
      "source": [
        "y_pred_tree=scaler.inverse_transform(y_pred_tree)"
      ],
      "execution_count": null,
      "outputs": []
    },
    {
      "cell_type": "code",
      "metadata": {
        "colab": {
          "base_uri": "https://localhost:8080/"
        },
        "id": "KsxPMqP9PrBY",
        "outputId": "5a92c762-98cc-42e2-cde7-71a09f7190cb"
      },
      "source": [
        "y_pred_tree"
      ],
      "execution_count": null,
      "outputs": [
        {
          "output_type": "execute_result",
          "data": {
            "text/plain": [
              "array([[6.54006617],\n",
              "       [6.96608661],\n",
              "       [4.17019958],\n",
              "       ...,\n",
              "       [4.867555  ],\n",
              "       [5.970582  ],\n",
              "       [4.061209  ]])"
            ]
          },
          "metadata": {
            "tags": []
          },
          "execution_count": 28
        }
      ]
    },
    {
      "cell_type": "code",
      "metadata": {
        "colab": {
          "base_uri": "https://localhost:8080/"
        },
        "id": "y-d7PO-WStj_",
        "outputId": "d97ce301-ac66-4eba-f9fc-88601e955b17"
      },
      "source": [
        "y_test_tree"
      ],
      "execution_count": null,
      "outputs": [
        {
          "output_type": "execute_result",
          "data": {
            "text/plain": [
              "array([[6.540075],\n",
              "       [6.966124],\n",
              "       [4.169907],\n",
              "       ...,\n",
              "       [4.867555],\n",
              "       [5.970582],\n",
              "       [4.061209]])"
            ]
          },
          "metadata": {
            "tags": []
          },
          "execution_count": 29
        }
      ]
    },
    {
      "cell_type": "code",
      "metadata": {
        "colab": {
          "base_uri": "https://localhost:8080/",
          "height": 311
        },
        "id": "rOKJC4MgqTXj",
        "outputId": "be29e244-177e-4c06-90bd-769444d96446"
      },
      "source": [
        "import matplotlib.pyplot as plt \n",
        "plt.scatter(y_test_tree[:359670], y_pred_tree[:359670], s=0.4)\n",
        "plt.plot(np.linspace(0,7,7), np.linspace(0,7,7), c = 'orange', linestyle='--')\n",
        "plt.xlim(0, 7)\n",
        "plt.ylim(0, 7)\n",
        "plt.title('True/Predicted Graph') \n",
        "plt.grid(True) \n",
        "plt.xlabel(\"True\") \n",
        "plt.ylabel('Predicted')"
      ],
      "execution_count": null,
      "outputs": [
        {
          "output_type": "execute_result",
          "data": {
            "text/plain": [
              "Text(0, 0.5, 'Predicted')"
            ]
          },
          "metadata": {
            "tags": []
          },
          "execution_count": 30
        },
        {
          "output_type": "display_data",
          "data": {
            "image/png": "[encoded data removed]",
            "text/plain": [
              "<Figure size 432x288 with 1 Axes>"
            ]
          },
          "metadata": {
            "tags": []
          }
        }
      ]
    },
    {
      "cell_type": "code",
      "metadata": {
        "id": "INDEU0iBSdux"
      },
      "source": [
        ""
      ],
      "execution_count": null,
      "outputs": []
    },
    {
      "cell_type": "code",
      "metadata": {
        "colab": {
          "base_uri": "https://localhost:8080/"
        },
        "id": "9qVWx2Ia2pQa",
        "outputId": "1bd36f31-ed91-41e9-f10c-57824a9edeec"
      },
      "source": [
        "!pip install plot_keras_history"
      ],
      "execution_count": null,
      "outputs": [
        {
          "output_type": "stream",
          "text": [
            "Collecting plot_keras_history\n",
            "  Downloading https://files.pythonhosted.org/packages/73/55/183a10ac8b62ca0411bd93286d394ce65d952e09b8d51d9706a4818afe9c/plot_keras_history-1.1.29.tar.gz\n",
            "Requirement already satisfied: matplotlib in /usr/local/lib/python3.7/dist-packages (from plot_keras_history) (3.2.2)\n",
            "Requirement already satisfied: pandas in /usr/local/lib/python3.7/dist-packages (from plot_keras_history) (1.1.5)\n",
            "Requirement already satisfied: scipy in /usr/local/lib/python3.7/dist-packages (from plot_keras_history) (1.4.1)\n",
            "Collecting sanitize_ml_labels\n",
            "  Downloading https://files.pythonhosted.org/packages/57/2c/c97c52a183b3da277a6ca276a9587ea011c5f7bcce0b192d1eaf7eb5084d/sanitize_ml_labels-1.0.26.tar.gz\n",
            "Requirement already satisfied: cycler>=0.10 in /usr/local/lib/python3.7/dist-packages (from matplotlib->plot_keras_history) (0.10.0)\n",
            "Requirement already satisfied: pyparsing!=2.0.4,!=2.1.2,!=2.1.6,>=2.0.1 in /usr/local/lib/python3.7/dist-packages (from matplotlib->plot_keras_history) (2.4.7)\n",
            "Requirement already satisfied: numpy>=1.11 in /usr/local/lib/python3.7/dist-packages (from matplotlib->plot_keras_history) (1.19.5)\n",
            "Requirement already satisfied: kiwisolver>=1.0.1 in /usr/local/lib/python3.7/dist-packages (from matplotlib->plot_keras_history) (1.3.1)\n",
            "Requirement already satisfied: python-dateutil>=2.1 in /usr/local/lib/python3.7/dist-packages (from matplotlib->plot_keras_history) (2.8.1)\n",
            "Requirement already satisfied: pytz>=2017.2 in /usr/local/lib/python3.7/dist-packages (from pandas->plot_keras_history) (2018.9)\n",
            "Collecting compress_json\n",
            "  Downloading https://files.pythonhosted.org/packages/c0/9d/1a79dbc3b9d69c57be363b4cc8bd6f278f919a0973f46c7bb831438c9333/compress_json-1.0.4.tar.gz\n",
            "Requirement already satisfied: six in /usr/local/lib/python3.7/dist-packages (from cycler>=0.10->matplotlib->plot_keras_history) (1.15.0)\n",
            "Building wheels for collected packages: plot-keras-history, sanitize-ml-labels, compress-json\n",
            "  Building wheel for plot-keras-history (setup.py) ... \u001b[?25l\u001b[?25hdone\n",
            "  Created wheel for plot-keras-history: filename=plot_keras_history-1.1.29-cp37-none-any.whl size=8614 sha256=cae35e6e44e694f72fe2810c7ef1e48650f44332f77333077084d21cc56399af\n",
            "  Stored in directory: /root/.cache/pip/wheels/8b/cb/fb/cbeba24d72e736b8987b7d0dc37afc0e76f3c16e544ceff727\n",
            "  Building wheel for sanitize-ml-labels (setup.py) ... \u001b[?25l\u001b[?25hdone\n",
            "  Created wheel for sanitize-ml-labels: filename=sanitize_ml_labels-1.0.26-cp37-none-any.whl size=7610 sha256=9c0f4ce1ecc22b260867dd3724e5fa4e37af745cbd1bc95aa72176d087e03e42\n",
            "  Stored in directory: /root/.cache/pip/wheels/2a/62/31/d348320becc60729f508a2c5aad445b94d7543c5cb577cfb9d\n",
            "  Building wheel for compress-json (setup.py) ... \u001b[?25l\u001b[?25hdone\n",
            "  Created wheel for compress-json: filename=compress_json-1.0.4-cp37-none-any.whl size=4586 sha256=9c3da2fe375a7a06d6629ce70bc85125e5ae7d07f56643d030d3833408c2e5fc\n",
            "  Stored in directory: /root/.cache/pip/wheels/83/ec/21/51460dd508e4a152c0643946c21fae84eb3391171164d35745\n",
            "Successfully built plot-keras-history sanitize-ml-labels compress-json\n",
            "Installing collected packages: compress-json, sanitize-ml-labels, plot-keras-history\n",
            "Successfully installed compress-json-1.0.4 plot-keras-history-1.1.29 sanitize-ml-labels-1.0.26\n"
          ],
          "name": "stdout"
        }
      ]
    },
    {
      "cell_type": "code",
      "metadata": {
        "colab": {
          "base_uri": "https://localhost:8080/",
          "height": 1000
        },
        "id": "MlBzu6592uVm",
        "outputId": "cdb0becb-b973-4695-82e1-723901b0950f"
      },
      "source": [
        "import timeit\n",
        "#from keras.wrappers.scikit_learn import KerasRegressor\n",
        "#from sklearn.model_selection import cross_val_score\n",
        "import keras\n",
        "from keras.models import Sequential\n",
        "from keras.layers import Dense, Dropout\n",
        "from plot_keras_history import plot_history\n",
        "from keras.layers import BatchNormalization\n",
        "from sklearn.model_selection import GridSearchCV\n",
        "from keras.wrappers.scikit_learn import KerasRegressor\n",
        "\n",
        "#with 1000 batchsize overfitting is much- RMS r2 are not good..256 batchsize was ok\n",
        "\n",
        "model = Sequential()\n",
        "# The Input Layer :\n",
        "model.add(Dense(256, kernel_initializer='he_uniform',input_dim = 25, activation='relu'))\n",
        "model.add(Dropout(0.2))\n",
        "model.add(Dense(512, kernel_initializer='he_uniform',activation='relu'))\n",
        "model.add(Dropout(0.2))\n",
        "# The Hidden Layers :\n",
        "model.add(Dense(912, kernel_initializer='he_uniform',activation='relu'))\n",
        "model.add(Dropout(0.2))\n",
        "model.add(Dense(512, kernel_initializer='uniform',activation='relu'))\n",
        "model.add(Dropout(0.2))\n",
        "model.add(Dense(256, kernel_initializer='he_uniform',activation='relu'))\n",
        "model.add(Dropout(0.2))\n",
        "model.add(Dense(1, kernel_initializer='he_uniform',activation='linear'))\n",
        "opt=keras.optimizers.Adamax(lr=.001)\n",
        "start = timeit.default_timer()\n",
        "model.compile(loss='mean_absolute_error', optimizer=opt, metrics=['mae'])\n",
        "history= model.fit(X_train, y_train, batch_size=256, epochs =200, verbose=1,validation_data=(X_val, y_val)).history\n",
        "model.summary()\n",
        "stop = timeit.default_timer()\n",
        "print('Time: ', (stop - start)/60,'minutes')  \n",
        "plot_history(history)"
      ],
      "execution_count": null,
      "outputs": [
        {
          "output_type": "stream",
          "text": [
            "Epoch 1/200\n",
            "10538/10538 [==============================] - 37s 3ms/step - loss: 0.2144 - mae: 0.2144 - val_loss: 0.1529 - val_mae: 0.1529\n",
            "Epoch 2/200\n",
            "10538/10538 [==============================] - 34s 3ms/step - loss: 0.1570 - mae: 0.1570 - val_loss: 0.1487 - val_mae: 0.1487\n",
            "Epoch 3/200\n",
            "10538/10538 [==============================] - 34s 3ms/step - loss: 0.1537 - mae: 0.1537 - val_loss: 0.1470 - val_mae: 0.1470\n",
            "Epoch 4/200\n",
            "10538/10538 [==============================] - 33s 3ms/step - loss: 0.1524 - mae: 0.1524 - val_loss: 0.1458 - val_mae: 0.1458\n",
            "Epoch 5/200\n",
            "10538/10538 [==============================] - 33s 3ms/step - loss: 0.1511 - mae: 0.1511 - val_loss: 0.1455 - val_mae: 0.1455\n",
            "Epoch 6/200\n",
            "10538/10538 [==============================] - 33s 3ms/step - loss: 0.1499 - mae: 0.1499 - val_loss: 0.1447 - val_mae: 0.1447\n",
            "Epoch 7/200\n",
            "10538/10538 [==============================] - 32s 3ms/step - loss: 0.1489 - mae: 0.1489 - val_loss: 0.1414 - val_mae: 0.1414\n",
            "Epoch 8/200\n",
            "10538/10538 [==============================] - 33s 3ms/step - loss: 0.1478 - mae: 0.1478 - val_loss: 0.1403 - val_mae: 0.1403\n",
            "Epoch 9/200\n",
            "10538/10538 [==============================] - 33s 3ms/step - loss: 0.1469 - mae: 0.1469 - val_loss: 0.1388 - val_mae: 0.1388\n",
            "Epoch 10/200\n",
            "10538/10538 [==============================] - 33s 3ms/step - loss: 0.1459 - mae: 0.1459 - val_loss: 0.1381 - val_mae: 0.1381\n",
            "Epoch 11/200\n",
            "10538/10538 [==============================] - 33s 3ms/step - loss: 0.1448 - mae: 0.1448 - val_loss: 0.1378 - val_mae: 0.1378\n",
            "Epoch 12/200\n",
            "10538/10538 [==============================] - 32s 3ms/step - loss: 0.1444 - mae: 0.1444 - val_loss: 0.1340 - val_mae: 0.1340\n",
            "Epoch 13/200\n",
            "10538/10538 [==============================] - 31s 3ms/step - loss: 0.1429 - mae: 0.1429 - val_loss: 0.1330 - val_mae: 0.1330\n",
            "Epoch 14/200\n",
            "10538/10538 [==============================] - 31s 3ms/step - loss: 0.1421 - mae: 0.1421 - val_loss: 0.1330 - val_mae: 0.1330\n",
            "Epoch 15/200\n",
            "10538/10538 [==============================] - 31s 3ms/step - loss: 0.1409 - mae: 0.1409 - val_loss: 0.1292 - val_mae: 0.1292\n",
            "Epoch 16/200\n",
            "10538/10538 [==============================] - 32s 3ms/step - loss: 0.1402 - mae: 0.1402 - val_loss: 0.1292 - val_mae: 0.1292\n",
            "Epoch 17/200\n",
            "10538/10538 [==============================] - 31s 3ms/step - loss: 0.1390 - mae: 0.1390 - val_loss: 0.1268 - val_mae: 0.1268\n",
            "Epoch 18/200\n",
            "10538/10538 [==============================] - 31s 3ms/step - loss: 0.1383 - mae: 0.1383 - val_loss: 0.1242 - val_mae: 0.1242\n",
            "Epoch 19/200\n",
            "10538/10538 [==============================] - 31s 3ms/step - loss: 0.1374 - mae: 0.1374 - val_loss: 0.1273 - val_mae: 0.1273\n",
            "Epoch 20/200\n",
            "10538/10538 [==============================] - 31s 3ms/step - loss: 0.1364 - mae: 0.1364 - val_loss: 0.1231 - val_mae: 0.1231\n",
            "Epoch 21/200\n",
            "10538/10538 [==============================] - 31s 3ms/step - loss: 0.1357 - mae: 0.1357 - val_loss: 0.1244 - val_mae: 0.1244\n",
            "Epoch 22/200\n",
            "10538/10538 [==============================] - 32s 3ms/step - loss: 0.1346 - mae: 0.1346 - val_loss: 0.1236 - val_mae: 0.1236\n",
            "Epoch 23/200\n",
            "10538/10538 [==============================] - 32s 3ms/step - loss: 0.1338 - mae: 0.1338 - val_loss: 0.1183 - val_mae: 0.1183\n",
            "Epoch 24/200\n",
            "10538/10538 [==============================] - 31s 3ms/step - loss: 0.1328 - mae: 0.1328 - val_loss: 0.1157 - val_mae: 0.1157\n",
            "Epoch 25/200\n",
            "10538/10538 [==============================] - 32s 3ms/step - loss: 0.1319 - mae: 0.1319 - val_loss: 0.1208 - val_mae: 0.1208\n",
            "Epoch 26/200\n",
            "10538/10538 [==============================] - 32s 3ms/step - loss: 0.1311 - mae: 0.1311 - val_loss: 0.1141 - val_mae: 0.1141\n",
            "Epoch 27/200\n",
            "10538/10538 [==============================] - 32s 3ms/step - loss: 0.1303 - mae: 0.1303 - val_loss: 0.1123 - val_mae: 0.1123\n",
            "Epoch 28/200\n",
            "10538/10538 [==============================] - 31s 3ms/step - loss: 0.1296 - mae: 0.1296 - val_loss: 0.1115 - val_mae: 0.1115\n",
            "Epoch 29/200\n",
            "10538/10538 [==============================] - 31s 3ms/step - loss: 0.1288 - mae: 0.1288 - val_loss: 0.1105 - val_mae: 0.1105\n",
            "Epoch 30/200\n",
            "10538/10538 [==============================] - 31s 3ms/step - loss: 0.1281 - mae: 0.1281 - val_loss: 0.1102 - val_mae: 0.1102\n",
            "Epoch 31/200\n",
            "10538/10538 [==============================] - 31s 3ms/step - loss: 0.1273 - mae: 0.1273 - val_loss: 0.1075 - val_mae: 0.1075\n",
            "Epoch 32/200\n",
            "10538/10538 [==============================] - 31s 3ms/step - loss: 0.1267 - mae: 0.1267 - val_loss: 0.1064 - val_mae: 0.1064\n",
            "Epoch 33/200\n",
            "10538/10538 [==============================] - 31s 3ms/step - loss: 0.1254 - mae: 0.1254 - val_loss: 0.1066 - val_mae: 0.1066\n",
            "Epoch 34/200\n",
            "10538/10538 [==============================] - 33s 3ms/step - loss: 0.1247 - mae: 0.1247 - val_loss: 0.1046 - val_mae: 0.1046\n",
            "Epoch 35/200\n",
            "10538/10538 [==============================] - 32s 3ms/step - loss: 0.1241 - mae: 0.1241 - val_loss: 0.1029 - val_mae: 0.1029\n",
            "Epoch 36/200\n",
            "10538/10538 [==============================] - 31s 3ms/step - loss: 0.1234 - mae: 0.1234 - val_loss: 0.1017 - val_mae: 0.1017\n",
            "Epoch 37/200\n",
            "10538/10538 [==============================] - 31s 3ms/step - loss: 0.1227 - mae: 0.1227 - val_loss: 0.1025 - val_mae: 0.1025\n",
            "Epoch 38/200\n",
            "10538/10538 [==============================] - 31s 3ms/step - loss: 0.1220 - mae: 0.1220 - val_loss: 0.1016 - val_mae: 0.1016\n",
            "Epoch 39/200\n",
            "10538/10538 [==============================] - 31s 3ms/step - loss: 0.1214 - mae: 0.1214 - val_loss: 0.0987 - val_mae: 0.0987\n",
            "Epoch 40/200\n",
            "10538/10538 [==============================] - 31s 3ms/step - loss: 0.1206 - mae: 0.1206 - val_loss: 0.1039 - val_mae: 0.1039\n",
            "Epoch 41/200\n",
            "10538/10538 [==============================] - 31s 3ms/step - loss: 0.1202 - mae: 0.1202 - val_loss: 0.1039 - val_mae: 0.1039\n",
            "Epoch 42/200\n",
            "10538/10538 [==============================] - 31s 3ms/step - loss: 0.1195 - mae: 0.1195 - val_loss: 0.0981 - val_mae: 0.0981\n",
            "Epoch 43/200\n",
            "10538/10538 [==============================] - 31s 3ms/step - loss: 0.1187 - mae: 0.1187 - val_loss: 0.0975 - val_mae: 0.0975\n",
            "Epoch 44/200\n",
            "10538/10538 [==============================] - 31s 3ms/step - loss: 0.1180 - mae: 0.1180 - val_loss: 0.0947 - val_mae: 0.0947\n",
            "Epoch 45/200\n",
            "10538/10538 [==============================] - 31s 3ms/step - loss: 0.1177 - mae: 0.1177 - val_loss: 0.0924 - val_mae: 0.0924\n",
            "Epoch 46/200\n",
            "10538/10538 [==============================] - 31s 3ms/step - loss: 0.1169 - mae: 0.1169 - val_loss: 0.0936 - val_mae: 0.0936\n",
            "Epoch 47/200\n",
            "10538/10538 [==============================] - 31s 3ms/step - loss: 0.1164 - mae: 0.1164 - val_loss: 0.0972 - val_mae: 0.0972\n",
            "Epoch 48/200\n",
            "10538/10538 [==============================] - 31s 3ms/step - loss: 0.1156 - mae: 0.1156 - val_loss: 0.0929 - val_mae: 0.0929\n",
            "Epoch 49/200\n",
            "10538/10538 [==============================] - 31s 3ms/step - loss: 0.1153 - mae: 0.1153 - val_loss: 0.0909 - val_mae: 0.0909\n",
            "Epoch 50/200\n",
            "10538/10538 [==============================] - 31s 3ms/step - loss: 0.1147 - mae: 0.1147 - val_loss: 0.0899 - val_mae: 0.0899\n",
            "Epoch 51/200\n",
            "10538/10538 [==============================] - 31s 3ms/step - loss: 0.1145 - mae: 0.1145 - val_loss: 0.0900 - val_mae: 0.0900\n",
            "Epoch 52/200\n",
            "10538/10538 [==============================] - 31s 3ms/step - loss: 0.1137 - mae: 0.1137 - val_loss: 0.0894 - val_mae: 0.0894\n",
            "Epoch 53/200\n",
            "10538/10538 [==============================] - 31s 3ms/step - loss: 0.1130 - mae: 0.1130 - val_loss: 0.0898 - val_mae: 0.0898\n",
            "Epoch 54/200\n",
            "10538/10538 [==============================] - 31s 3ms/step - loss: 0.1124 - mae: 0.1124 - val_loss: 0.0871 - val_mae: 0.0871\n",
            "Epoch 55/200\n",
            "10538/10538 [==============================] - 32s 3ms/step - loss: 0.1123 - mae: 0.1123 - val_loss: 0.0886 - val_mae: 0.0886\n",
            "Epoch 56/200\n",
            "10538/10538 [==============================] - 33s 3ms/step - loss: 0.1117 - mae: 0.1117 - val_loss: 0.0860 - val_mae: 0.0860\n",
            "Epoch 57/200\n",
            "10538/10538 [==============================] - 32s 3ms/step - loss: 0.1113 - mae: 0.1113 - val_loss: 0.0851 - val_mae: 0.0851\n",
            "Epoch 58/200\n",
            "10538/10538 [==============================] - 32s 3ms/step - loss: 0.1109 - mae: 0.1109 - val_loss: 0.0843 - val_mae: 0.0843\n",
            "Epoch 59/200\n",
            "10538/10538 [==============================] - 32s 3ms/step - loss: 0.1104 - mae: 0.1104 - val_loss: 0.0850 - val_mae: 0.0850\n",
            "Epoch 60/200\n",
            "10538/10538 [==============================] - 32s 3ms/step - loss: 0.1100 - mae: 0.1100 - val_loss: 0.0851 - val_mae: 0.0851\n",
            "Epoch 61/200\n",
            "10538/10538 [==============================] - 31s 3ms/step - loss: 0.1096 - mae: 0.1096 - val_loss: 0.0862 - val_mae: 0.0862\n",
            "Epoch 62/200\n",
            "10538/10538 [==============================] - 33s 3ms/step - loss: 0.1091 - mae: 0.1091 - val_loss: 0.0842 - val_mae: 0.0842\n",
            "Epoch 63/200\n",
            "10538/10538 [==============================] - 32s 3ms/step - loss: 0.1087 - mae: 0.1087 - val_loss: 0.0882 - val_mae: 0.0882\n",
            "Epoch 64/200\n",
            "10538/10538 [==============================] - 32s 3ms/step - loss: 0.1084 - mae: 0.1084 - val_loss: 0.0823 - val_mae: 0.0823\n",
            "Epoch 65/200\n",
            "10538/10538 [==============================] - 32s 3ms/step - loss: 0.1079 - mae: 0.1079 - val_loss: 0.0815 - val_mae: 0.0815\n",
            "Epoch 66/200\n",
            "10538/10538 [==============================] - 32s 3ms/step - loss: 0.1072 - mae: 0.1072 - val_loss: 0.0812 - val_mae: 0.0812\n",
            "Epoch 67/200\n",
            "10538/10538 [==============================] - 31s 3ms/step - loss: 0.1070 - mae: 0.1070 - val_loss: 0.0827 - val_mae: 0.0827\n",
            "Epoch 68/200\n",
            "10538/10538 [==============================] - 31s 3ms/step - loss: 0.1066 - mae: 0.1066 - val_loss: 0.0841 - val_mae: 0.0841\n",
            "Epoch 69/200\n",
            "10538/10538 [==============================] - 31s 3ms/step - loss: 0.1065 - mae: 0.1065 - val_loss: 0.0791 - val_mae: 0.0791\n",
            "Epoch 70/200\n",
            "10538/10538 [==============================] - 31s 3ms/step - loss: 0.1063 - mae: 0.1063 - val_loss: 0.0799 - val_mae: 0.0799\n",
            "Epoch 71/200\n",
            "10538/10538 [==============================] - 31s 3ms/step - loss: 0.1058 - mae: 0.1058 - val_loss: 0.0791 - val_mae: 0.0791\n",
            "Epoch 72/200\n",
            "10538/10538 [==============================] - 32s 3ms/step - loss: 0.1053 - mae: 0.1053 - val_loss: 0.0810 - val_mae: 0.0810\n",
            "Epoch 73/200\n",
            "10538/10538 [==============================] - 32s 3ms/step - loss: 0.1050 - mae: 0.1050 - val_loss: 0.0798 - val_mae: 0.0798\n",
            "Epoch 74/200\n",
            "10538/10538 [==============================] - 32s 3ms/step - loss: 0.1046 - mae: 0.1046 - val_loss: 0.0790 - val_mae: 0.0790\n",
            "Epoch 75/200\n",
            "10538/10538 [==============================] - 32s 3ms/step - loss: 0.1044 - mae: 0.1044 - val_loss: 0.0788 - val_mae: 0.0788\n",
            "Epoch 76/200\n",
            "10538/10538 [==============================] - 31s 3ms/step - loss: 0.1039 - mae: 0.1039 - val_loss: 0.0773 - val_mae: 0.0773\n",
            "Epoch 77/200\n",
            "10538/10538 [==============================] - 31s 3ms/step - loss: 0.1037 - mae: 0.1037 - val_loss: 0.0789 - val_mae: 0.0789\n",
            "Epoch 78/200\n",
            "10538/10538 [==============================] - 31s 3ms/step - loss: 0.1033 - mae: 0.1033 - val_loss: 0.0787 - val_mae: 0.0787\n",
            "Epoch 79/200\n",
            "10538/10538 [==============================] - 31s 3ms/step - loss: 0.1032 - mae: 0.1032 - val_loss: 0.0769 - val_mae: 0.0769\n",
            "Epoch 80/200\n",
            "10538/10538 [==============================] - 31s 3ms/step - loss: 0.1028 - mae: 0.1028 - val_loss: 0.0768 - val_mae: 0.0768\n",
            "Epoch 81/200\n",
            "10538/10538 [==============================] - 31s 3ms/step - loss: 0.1026 - mae: 0.1026 - val_loss: 0.0764 - val_mae: 0.0764\n",
            "Epoch 82/200\n",
            "10538/10538 [==============================] - 31s 3ms/step - loss: 0.1024 - mae: 0.1024 - val_loss: 0.0754 - val_mae: 0.0754\n",
            "Epoch 83/200\n",
            "10538/10538 [==============================] - 31s 3ms/step - loss: 0.1018 - mae: 0.1018 - val_loss: 0.0756 - val_mae: 0.0756\n",
            "Epoch 84/200\n",
            "10538/10538 [==============================] - 31s 3ms/step - loss: 0.1018 - mae: 0.1018 - val_loss: 0.0769 - val_mae: 0.0769\n",
            "Epoch 85/200\n",
            "10538/10538 [==============================] - 31s 3ms/step - loss: 0.1014 - mae: 0.1014 - val_loss: 0.0759 - val_mae: 0.0759\n",
            "Epoch 86/200\n",
            "10538/10538 [==============================] - 31s 3ms/step - loss: 0.1010 - mae: 0.1010 - val_loss: 0.0753 - val_mae: 0.0753\n",
            "Epoch 87/200\n",
            "10538/10538 [==============================] - 31s 3ms/step - loss: 0.1011 - mae: 0.1011 - val_loss: 0.0752 - val_mae: 0.0752\n",
            "Epoch 88/200\n",
            "10538/10538 [==============================] - 31s 3ms/step - loss: 0.1005 - mae: 0.1005 - val_loss: 0.0751 - val_mae: 0.0751\n",
            "Epoch 89/200\n",
            "10538/10538 [==============================] - 31s 3ms/step - loss: 0.1004 - mae: 0.1004 - val_loss: 0.0736 - val_mae: 0.0736\n",
            "Epoch 90/200\n",
            "10538/10538 [==============================] - 31s 3ms/step - loss: 0.1003 - mae: 0.1003 - val_loss: 0.0729 - val_mae: 0.0729\n",
            "Epoch 91/200\n",
            "10538/10538 [==============================] - 31s 3ms/step - loss: 0.0999 - mae: 0.0999 - val_loss: 0.0743 - val_mae: 0.0743\n",
            "Epoch 92/200\n",
            "10538/10538 [==============================] - 31s 3ms/step - loss: 0.0997 - mae: 0.0997 - val_loss: 0.0726 - val_mae: 0.0726\n",
            "Epoch 93/200\n",
            "10538/10538 [==============================] - 31s 3ms/step - loss: 0.0995 - mae: 0.0995 - val_loss: 0.0732 - val_mae: 0.0732\n",
            "Epoch 94/200\n",
            "10538/10538 [==============================] - 31s 3ms/step - loss: 0.0993 - mae: 0.0993 - val_loss: 0.0723 - val_mae: 0.0723\n",
            "Epoch 95/200\n",
            "10538/10538 [==============================] - 31s 3ms/step - loss: 0.0989 - mae: 0.0989 - val_loss: 0.0720 - val_mae: 0.0720\n",
            "Epoch 96/200\n",
            "10538/10538 [==============================] - 31s 3ms/step - loss: 0.0990 - mae: 0.0990 - val_loss: 0.0728 - val_mae: 0.0728\n",
            "Epoch 97/200\n",
            "10538/10538 [==============================] - 31s 3ms/step - loss: 0.0984 - mae: 0.0984 - val_loss: 0.0706 - val_mae: 0.0706\n",
            "Epoch 98/200\n",
            "10538/10538 [==============================] - 31s 3ms/step - loss: 0.0982 - mae: 0.0982 - val_loss: 0.0701 - val_mae: 0.0701\n",
            "Epoch 99/200\n",
            "10538/10538 [==============================] - 31s 3ms/step - loss: 0.0981 - mae: 0.0981 - val_loss: 0.0714 - val_mae: 0.0714\n",
            "Epoch 100/200\n",
            "10538/10538 [==============================] - 31s 3ms/step - loss: 0.0980 - mae: 0.0980 - val_loss: 0.0725 - val_mae: 0.0725\n",
            "Epoch 101/200\n",
            "10538/10538 [==============================] - 31s 3ms/step - loss: 0.0976 - mae: 0.0976 - val_loss: 0.0700 - val_mae: 0.0700\n",
            "Epoch 102/200\n",
            "10538/10538 [==============================] - 31s 3ms/step - loss: 0.0976 - mae: 0.0976 - val_loss: 0.0705 - val_mae: 0.0705\n",
            "Epoch 103/200\n",
            "10538/10538 [==============================] - 31s 3ms/step - loss: 0.0973 - mae: 0.0973 - val_loss: 0.0701 - val_mae: 0.0701\n",
            "Epoch 104/200\n",
            "10538/10538 [==============================] - 31s 3ms/step - loss: 0.0970 - mae: 0.0970 - val_loss: 0.0698 - val_mae: 0.0698\n",
            "Epoch 105/200\n",
            "10538/10538 [==============================] - 31s 3ms/step - loss: 0.0967 - mae: 0.0967 - val_loss: 0.0709 - val_mae: 0.0709\n",
            "Epoch 106/200\n",
            "10538/10538 [==============================] - 31s 3ms/step - loss: 0.0968 - mae: 0.0968 - val_loss: 0.0690 - val_mae: 0.0690\n",
            "Epoch 107/200\n",
            "10538/10538 [==============================] - 31s 3ms/step - loss: 0.0964 - mae: 0.0964 - val_loss: 0.0705 - val_mae: 0.0705\n",
            "Epoch 108/200\n",
            "10538/10538 [==============================] - 31s 3ms/step - loss: 0.0962 - mae: 0.0962 - val_loss: 0.0692 - val_mae: 0.0692\n",
            "Epoch 109/200\n",
            "10538/10538 [==============================] - 31s 3ms/step - loss: 0.0961 - mae: 0.0961 - val_loss: 0.0692 - val_mae: 0.0692\n",
            "Epoch 110/200\n",
            "10538/10538 [==============================] - 31s 3ms/step - loss: 0.0959 - mae: 0.0959 - val_loss: 0.0705 - val_mae: 0.0705\n",
            "Epoch 111/200\n",
            "10538/10538 [==============================] - 31s 3ms/step - loss: 0.0958 - mae: 0.0958 - val_loss: 0.0679 - val_mae: 0.0679\n",
            "Epoch 112/200\n",
            "10538/10538 [==============================] - 34s 3ms/step - loss: 0.0954 - mae: 0.0954 - val_loss: 0.0687 - val_mae: 0.0687\n",
            "Epoch 113/200\n",
            "10538/10538 [==============================] - 33s 3ms/step - loss: 0.0954 - mae: 0.0954 - val_loss: 0.0688 - val_mae: 0.0688\n",
            "Epoch 114/200\n",
            "10538/10538 [==============================] - 33s 3ms/step - loss: 0.0951 - mae: 0.0951 - val_loss: 0.0663 - val_mae: 0.0663\n",
            "Epoch 115/200\n",
            "10538/10538 [==============================] - 32s 3ms/step - loss: 0.0948 - mae: 0.0948 - val_loss: 0.0677 - val_mae: 0.0677\n",
            "Epoch 116/200\n",
            "10538/10538 [==============================] - 32s 3ms/step - loss: 0.0946 - mae: 0.0946 - val_loss: 0.0666 - val_mae: 0.0666\n",
            "Epoch 117/200\n",
            "10538/10538 [==============================] - 32s 3ms/step - loss: 0.0945 - mae: 0.0945 - val_loss: 0.0666 - val_mae: 0.0666\n",
            "Epoch 118/200\n",
            "10538/10538 [==============================] - 32s 3ms/step - loss: 0.0943 - mae: 0.0943 - val_loss: 0.0663 - val_mae: 0.0663\n",
            "Epoch 119/200\n",
            "10538/10538 [==============================] - 32s 3ms/step - loss: 0.0941 - mae: 0.0941 - val_loss: 0.0681 - val_mae: 0.0681\n",
            "Epoch 120/200\n",
            "10538/10538 [==============================] - 32s 3ms/step - loss: 0.0939 - mae: 0.0939 - val_loss: 0.0674 - val_mae: 0.0674\n",
            "Epoch 121/200\n",
            "10538/10538 [==============================] - 33s 3ms/step - loss: 0.0936 - mae: 0.0936 - val_loss: 0.0655 - val_mae: 0.0655\n",
            "Epoch 122/200\n",
            "10538/10538 [==============================] - 31s 3ms/step - loss: 0.0934 - mae: 0.0934 - val_loss: 0.0667 - val_mae: 0.0667\n",
            "Epoch 123/200\n",
            "10538/10538 [==============================] - 31s 3ms/step - loss: 0.0938 - mae: 0.0938 - val_loss: 0.0692 - val_mae: 0.0692\n",
            "Epoch 124/200\n",
            "10538/10538 [==============================] - 31s 3ms/step - loss: 0.0934 - mae: 0.0934 - val_loss: 0.0659 - val_mae: 0.0659\n",
            "Epoch 125/200\n",
            "10538/10538 [==============================] - 31s 3ms/step - loss: 0.0933 - mae: 0.0933 - val_loss: 0.0671 - val_mae: 0.0671\n",
            "Epoch 126/200\n",
            "10538/10538 [==============================] - 31s 3ms/step - loss: 0.0930 - mae: 0.0930 - val_loss: 0.0646 - val_mae: 0.0646\n",
            "Epoch 127/200\n",
            "10538/10538 [==============================] - 31s 3ms/step - loss: 0.0931 - mae: 0.0931 - val_loss: 0.0671 - val_mae: 0.0671\n",
            "Epoch 128/200\n",
            "10538/10538 [==============================] - 31s 3ms/step - loss: 0.0929 - mae: 0.0929 - val_loss: 0.0659 - val_mae: 0.0659\n",
            "Epoch 129/200\n",
            "10538/10538 [==============================] - 31s 3ms/step - loss: 0.0929 - mae: 0.0929 - val_loss: 0.0641 - val_mae: 0.0641\n",
            "Epoch 130/200\n",
            "10538/10538 [==============================] - 31s 3ms/step - loss: 0.0924 - mae: 0.0924 - val_loss: 0.0655 - val_mae: 0.0655\n",
            "Epoch 131/200\n",
            "10538/10538 [==============================] - 32s 3ms/step - loss: 0.0923 - mae: 0.0923 - val_loss: 0.0645 - val_mae: 0.0645\n",
            "Epoch 132/200\n",
            "10538/10538 [==============================] - 31s 3ms/step - loss: 0.0921 - mae: 0.0921 - val_loss: 0.0649 - val_mae: 0.0649\n",
            "Epoch 133/200\n",
            "10538/10538 [==============================] - 33s 3ms/step - loss: 0.0921 - mae: 0.0921 - val_loss: 0.0641 - val_mae: 0.0641\n",
            "Epoch 134/200\n",
            "10538/10538 [==============================] - 34s 3ms/step - loss: 0.0919 - mae: 0.0919 - val_loss: 0.0630 - val_mae: 0.0630\n",
            "Epoch 135/200\n",
            "10538/10538 [==============================] - 33s 3ms/step - loss: 0.0918 - mae: 0.0918 - val_loss: 0.0637 - val_mae: 0.0637\n",
            "Epoch 136/200\n",
            "10538/10538 [==============================] - 32s 3ms/step - loss: 0.0918 - mae: 0.0918 - val_loss: 0.0633 - val_mae: 0.0633\n",
            "Epoch 137/200\n",
            "10538/10538 [==============================] - 32s 3ms/step - loss: 0.0915 - mae: 0.0915 - val_loss: 0.0644 - val_mae: 0.0644\n",
            "Epoch 138/200\n",
            "10538/10538 [==============================] - 33s 3ms/step - loss: 0.0913 - mae: 0.0913 - val_loss: 0.0648 - val_mae: 0.0648\n",
            "Epoch 139/200\n",
            "10538/10538 [==============================] - 34s 3ms/step - loss: 0.0912 - mae: 0.0912 - val_loss: 0.0635 - val_mae: 0.0635\n",
            "Epoch 140/200\n",
            "10538/10538 [==============================] - 33s 3ms/step - loss: 0.0911 - mae: 0.0911 - val_loss: 0.0633 - val_mae: 0.0633\n",
            "Epoch 141/200\n",
            "10538/10538 [==============================] - 33s 3ms/step - loss: 0.0912 - mae: 0.0912 - val_loss: 0.0634 - val_mae: 0.0634\n",
            "Epoch 142/200\n",
            "10538/10538 [==============================] - 33s 3ms/step - loss: 0.0910 - mae: 0.0910 - val_loss: 0.0682 - val_mae: 0.0682\n",
            "Epoch 143/200\n",
            "10538/10538 [==============================] - 32s 3ms/step - loss: 0.0908 - mae: 0.0908 - val_loss: 0.0635 - val_mae: 0.0635\n",
            "Epoch 144/200\n",
            "10538/10538 [==============================] - 32s 3ms/step - loss: 0.0905 - mae: 0.0905 - val_loss: 0.0639 - val_mae: 0.0639\n",
            "Epoch 145/200\n",
            "10538/10538 [==============================] - 32s 3ms/step - loss: 0.0903 - mae: 0.0903 - val_loss: 0.0645 - val_mae: 0.0645\n",
            "Epoch 146/200\n",
            "10538/10538 [==============================] - 32s 3ms/step - loss: 0.0902 - mae: 0.0902 - val_loss: 0.0628 - val_mae: 0.0628\n",
            "Epoch 147/200\n",
            "10538/10538 [==============================] - 32s 3ms/step - loss: 0.0902 - mae: 0.0902 - val_loss: 0.0615 - val_mae: 0.0615\n",
            "Epoch 148/200\n",
            "10538/10538 [==============================] - 31s 3ms/step - loss: 0.0900 - mae: 0.0900 - val_loss: 0.0627 - val_mae: 0.0627\n",
            "Epoch 149/200\n",
            "10538/10538 [==============================] - 32s 3ms/step - loss: 0.0900 - mae: 0.0900 - val_loss: 0.0618 - val_mae: 0.0618\n",
            "Epoch 150/200\n",
            "10538/10538 [==============================] - 32s 3ms/step - loss: 0.0897 - mae: 0.0897 - val_loss: 0.0629 - val_mae: 0.0629\n",
            "Epoch 151/200\n",
            "10538/10538 [==============================] - 32s 3ms/step - loss: 0.0899 - mae: 0.0899 - val_loss: 0.0611 - val_mae: 0.0611\n",
            "Epoch 152/200\n",
            "10538/10538 [==============================] - 32s 3ms/step - loss: 0.0897 - mae: 0.0897 - val_loss: 0.0623 - val_mae: 0.0623\n",
            "Epoch 153/200\n",
            "10538/10538 [==============================] - 32s 3ms/step - loss: 0.0895 - mae: 0.0895 - val_loss: 0.0626 - val_mae: 0.0626\n",
            "Epoch 154/200\n",
            "10538/10538 [==============================] - 32s 3ms/step - loss: 0.0893 - mae: 0.0893 - val_loss: 0.0628 - val_mae: 0.0628\n",
            "Epoch 155/200\n",
            "10538/10538 [==============================] - 32s 3ms/step - loss: 0.0892 - mae: 0.0892 - val_loss: 0.0607 - val_mae: 0.0607\n",
            "Epoch 156/200\n",
            "10538/10538 [==============================] - 33s 3ms/step - loss: 0.0892 - mae: 0.0892 - val_loss: 0.0605 - val_mae: 0.0605\n",
            "Epoch 157/200\n",
            "10538/10538 [==============================] - 33s 3ms/step - loss: 0.0890 - mae: 0.0890 - val_loss: 0.0627 - val_mae: 0.0627\n",
            "Epoch 158/200\n",
            "10538/10538 [==============================] - 32s 3ms/step - loss: 0.0890 - mae: 0.0890 - val_loss: 0.0621 - val_mae: 0.0621\n",
            "Epoch 159/200\n",
            "10538/10538 [==============================] - 32s 3ms/step - loss: 0.0889 - mae: 0.0889 - val_loss: 0.0638 - val_mae: 0.0638\n",
            "Epoch 160/200\n",
            "10538/10538 [==============================] - 32s 3ms/step - loss: 0.0887 - mae: 0.0887 - val_loss: 0.0625 - val_mae: 0.0625\n",
            "Epoch 161/200\n",
            "10538/10538 [==============================] - 32s 3ms/step - loss: 0.0889 - mae: 0.0889 - val_loss: 0.0612 - val_mae: 0.0612\n",
            "Epoch 162/200\n",
            "10538/10538 [==============================] - 33s 3ms/step - loss: 0.0887 - mae: 0.0887 - val_loss: 0.0604 - val_mae: 0.0604\n",
            "Epoch 163/200\n",
            "10538/10538 [==============================] - 32s 3ms/step - loss: 0.0886 - mae: 0.0886 - val_loss: 0.0607 - val_mae: 0.0607\n",
            "Epoch 164/200\n",
            "10538/10538 [==============================] - 32s 3ms/step - loss: 0.0884 - mae: 0.0884 - val_loss: 0.0644 - val_mae: 0.0644\n",
            "Epoch 165/200\n",
            "10538/10538 [==============================] - 32s 3ms/step - loss: 0.0885 - mae: 0.0885 - val_loss: 0.0604 - val_mae: 0.0604\n",
            "Epoch 166/200\n",
            "10538/10538 [==============================] - 32s 3ms/step - loss: 0.0881 - mae: 0.0881 - val_loss: 0.0598 - val_mae: 0.0598\n",
            "Epoch 167/200\n",
            "10538/10538 [==============================] - 32s 3ms/step - loss: 0.0882 - mae: 0.0882 - val_loss: 0.0603 - val_mae: 0.0603\n",
            "Epoch 168/200\n",
            "10538/10538 [==============================] - 32s 3ms/step - loss: 0.0880 - mae: 0.0880 - val_loss: 0.0594 - val_mae: 0.0594\n",
            "Epoch 169/200\n",
            "10538/10538 [==============================] - 32s 3ms/step - loss: 0.0878 - mae: 0.0878 - val_loss: 0.0625 - val_mae: 0.0625\n",
            "Epoch 170/200\n",
            "10538/10538 [==============================] - 33s 3ms/step - loss: 0.0880 - mae: 0.0880 - val_loss: 0.0599 - val_mae: 0.0599\n",
            "Epoch 171/200\n",
            "10538/10538 [==============================] - 33s 3ms/step - loss: 0.0878 - mae: 0.0878 - val_loss: 0.0600 - val_mae: 0.0600\n",
            "Epoch 172/200\n",
            "10538/10538 [==============================] - 33s 3ms/step - loss: 0.0875 - mae: 0.0875 - val_loss: 0.0621 - val_mae: 0.0621\n",
            "Epoch 173/200\n",
            "10538/10538 [==============================] - 32s 3ms/step - loss: 0.0876 - mae: 0.0876 - val_loss: 0.0630 - val_mae: 0.0630\n",
            "Epoch 174/200\n",
            "10538/10538 [==============================] - 32s 3ms/step - loss: 0.0876 - mae: 0.0876 - val_loss: 0.0594 - val_mae: 0.0594\n",
            "Epoch 175/200\n",
            "10538/10538 [==============================] - 32s 3ms/step - loss: 0.0874 - mae: 0.0874 - val_loss: 0.0594 - val_mae: 0.0594\n",
            "Epoch 176/200\n",
            "10538/10538 [==============================] - 32s 3ms/step - loss: 0.0873 - mae: 0.0873 - val_loss: 0.0611 - val_mae: 0.0611\n",
            "Epoch 177/200\n",
            "10538/10538 [==============================] - 33s 3ms/step - loss: 0.0873 - mae: 0.0873 - val_loss: 0.0616 - val_mae: 0.0616\n",
            "Epoch 178/200\n",
            "10538/10538 [==============================] - 33s 3ms/step - loss: 0.0872 - mae: 0.0872 - val_loss: 0.0594 - val_mae: 0.0594\n",
            "Epoch 179/200\n",
            "10538/10538 [==============================] - 34s 3ms/step - loss: 0.0871 - mae: 0.0871 - val_loss: 0.0606 - val_mae: 0.0606\n",
            "Epoch 180/200\n",
            "10538/10538 [==============================] - 33s 3ms/step - loss: 0.0871 - mae: 0.0871 - val_loss: 0.0589 - val_mae: 0.0589\n",
            "Epoch 181/200\n",
            "10538/10538 [==============================] - 33s 3ms/step - loss: 0.0868 - mae: 0.0868 - val_loss: 0.0646 - val_mae: 0.0646\n",
            "Epoch 182/200\n",
            "10538/10538 [==============================] - 33s 3ms/step - loss: 0.0870 - mae: 0.0870 - val_loss: 0.0592 - val_mae: 0.0592\n",
            "Epoch 183/200\n",
            "10538/10538 [==============================] - 33s 3ms/step - loss: 0.0868 - mae: 0.0868 - val_loss: 0.0584 - val_mae: 0.0584\n",
            "Epoch 184/200\n",
            "10538/10538 [==============================] - 33s 3ms/step - loss: 0.0863 - mae: 0.0863 - val_loss: 0.0580 - val_mae: 0.0580\n",
            "Epoch 185/200\n",
            "10538/10538 [==============================] - 32s 3ms/step - loss: 0.0867 - mae: 0.0867 - val_loss: 0.0589 - val_mae: 0.0589\n",
            "Epoch 186/200\n",
            "10538/10538 [==============================] - 32s 3ms/step - loss: 0.0865 - mae: 0.0865 - val_loss: 0.0606 - val_mae: 0.0606\n",
            "Epoch 187/200\n",
            "10538/10538 [==============================] - 32s 3ms/step - loss: 0.0865 - mae: 0.0865 - val_loss: 0.0604 - val_mae: 0.0604\n",
            "Epoch 188/200\n",
            "10538/10538 [==============================] - 32s 3ms/step - loss: 0.0863 - mae: 0.0863 - val_loss: 0.0601 - val_mae: 0.0601\n",
            "Epoch 189/200\n",
            "10538/10538 [==============================] - 33s 3ms/step - loss: 0.0865 - mae: 0.0865 - val_loss: 0.0591 - val_mae: 0.0591\n",
            "Epoch 190/200\n",
            "10538/10538 [==============================] - 32s 3ms/step - loss: 0.0863 - mae: 0.0863 - val_loss: 0.0576 - val_mae: 0.0576\n",
            "Epoch 191/200\n",
            "10538/10538 [==============================] - 32s 3ms/step - loss: 0.0862 - mae: 0.0862 - val_loss: 0.0594 - val_mae: 0.0594\n",
            "Epoch 192/200\n",
            "10538/10538 [==============================] - 32s 3ms/step - loss: 0.0861 - mae: 0.0861 - val_loss: 0.0577 - val_mae: 0.0577\n",
            "Epoch 193/200\n",
            "10538/10538 [==============================] - 32s 3ms/step - loss: 0.0858 - mae: 0.0858 - val_loss: 0.0591 - val_mae: 0.0591\n",
            "Epoch 194/200\n",
            "10538/10538 [==============================] - 32s 3ms/step - loss: 0.0858 - mae: 0.0858 - val_loss: 0.0609 - val_mae: 0.0609\n",
            "Epoch 195/200\n",
            "10538/10538 [==============================] - 32s 3ms/step - loss: 0.0859 - mae: 0.0859 - val_loss: 0.0600 - val_mae: 0.0600\n",
            "Epoch 196/200\n",
            "10538/10538 [==============================] - 32s 3ms/step - loss: 0.0857 - mae: 0.0857 - val_loss: 0.0581 - val_mae: 0.0581\n",
            "Epoch 197/200\n",
            "10538/10538 [==============================] - 32s 3ms/step - loss: 0.0856 - mae: 0.0856 - val_loss: 0.0589 - val_mae: 0.0589\n",
            "Epoch 198/200\n",
            "10538/10538 [==============================] - 33s 3ms/step - loss: 0.0855 - mae: 0.0855 - val_loss: 0.0584 - val_mae: 0.0584\n",
            "Epoch 199/200\n",
            "10538/10538 [==============================] - 32s 3ms/step - loss: 0.0854 - mae: 0.0854 - val_loss: 0.0578 - val_mae: 0.0578\n",
            "Epoch 200/200\n",
            "10538/10538 [==============================] - 32s 3ms/step - loss: 0.0854 - mae: 0.0854 - val_loss: 0.0575 - val_mae: 0.0575\n",
            "Model: \"sequential\"\n",
            "_________________________________________________________________\n",
            "Layer (type)                 Output Shape              Param #   \n",
            "=================================================================\n",
            "dense (Dense)                (None, 256)               6656      \n",
            "_________________________________________________________________\n",
            "dropout (Dropout)            (None, 256)               0         \n",
            "_________________________________________________________________\n",
            "dense_1 (Dense)              (None, 512)               131584    \n",
            "_________________________________________________________________\n",
            "dropout_1 (Dropout)          (None, 512)               0         \n",
            "_________________________________________________________________\n",
            "dense_2 (Dense)              (None, 912)               467856    \n",
            "_________________________________________________________________\n",
            "dropout_2 (Dropout)          (None, 912)               0         \n",
            "_________________________________________________________________\n",
            "dense_3 (Dense)              (None, 512)               467456    \n",
            "_________________________________________________________________\n",
            "dropout_3 (Dropout)          (None, 512)               0         \n",
            "_________________________________________________________________\n",
            "dense_4 (Dense)              (None, 256)               131328    \n",
            "_________________________________________________________________\n",
            "dropout_4 (Dropout)          (None, 256)               0         \n",
            "_________________________________________________________________\n",
            "dense_5 (Dense)              (None, 1)                 257       \n",
            "=================================================================\n",
            "Total params: 1,205,137\n",
            "Trainable params: 1,205,137\n",
            "Non-trainable params: 0\n",
            "_________________________________________________________________\n",
            "Time:  106.18392263391667 minutes\n"
          ],
          "name": "stdout"
        },
        {
          "output_type": "execute_result",
          "data": {
            "text/plain": [
              "(<Figure size 720x360 with 2 Axes>,\n",
              " array([<matplotlib.axes._subplots.AxesSubplot object at 0x7fd226cd1e50>,\n",
              "        <matplotlib.axes._subplots.AxesSubplot object at 0x7fd226ca3850>],\n",
              "       dtype=object))"
            ]
          },
          "metadata": {
            "tags": []
          },
          "execution_count": 22
        },
        {
          "output_type": "display_data",
          "data": {
            "image/png": "[encoded data removed]",
            "text/plain": [
              "<Figure size 720x360 with 2 Axes>"
            ]
          },
          "metadata": {
            "tags": [],
            "needs_background": "light"
          }
        }
      ]
    },
    {
      "cell_type": "code",
      "metadata": {
        "colab": {
          "base_uri": "https://localhost:8080/"
        },
        "id": "yVRG6Eqe21Ma",
        "outputId": "bdf5ffa6-2ad4-4fd3-d771-de07eb6e3bd8"
      },
      "source": [
        "import numpy as geek \n",
        "y_pred_ann=model.predict(X_test)\n",
        "#print(y_pred)\n",
        "out_arr = geek.column_stack((y_pred_ann, y_test)) #comparing two values\n",
        "print (\"Output stacked array:\\n \", out_arr) "
      ],
      "execution_count": null,
      "outputs": [
        {
          "output_type": "stream",
          "text": [
            "Output stacked array:\n",
            "  [[0.95972538 0.93430831]\n",
            " [0.97964358 0.99517322]\n",
            " [0.58917129 0.59570857]\n",
            " ...\n",
            " [0.69577467 0.69537384]\n",
            " [0.79759699 0.85295113]\n",
            " [0.54268479 0.58018009]]\n"
          ],
          "name": "stdout"
        }
      ]
    },
    {
      "cell_type": "code",
      "metadata": {
        "colab": {
          "base_uri": "https://localhost:8080/"
        },
        "id": "MBhny50zDnCU",
        "outputId": "964a218c-5336-4e73-981a-4870d8e25ac0"
      },
      "source": [
        "from sklearn import metrics\n",
        "from math import sqrt\n",
        "from sklearn.metrics import mean_squared_error\n",
        "var = metrics.explained_variance_score(y_test, y_pred_ann)\n",
        "mae = metrics.mean_absolute_error(y_test, y_pred_ann)\n",
        "mse = metrics.mean_squared_error(y_test, y_pred_ann)\n",
        "r2 = metrics.r2_score(y_test, y_pred_ann)\n",
        "rmse = sqrt(mean_squared_error(y_test, y_pred_ann))\n",
        "print ('Explained variance (best possible score is 1.0, lower values are worse):', var)\n",
        "print ('Mean Absolute Error (best is 0.0):', mae)\n",
        "print ('Mean Squared Error (best is 0.0):', mse)\n",
        "print ('R2 score (best is 1.0):', r2)\n",
        "print ('root Mean Squared Error (best is 0.0):', rmse)"
      ],
      "execution_count": null,
      "outputs": [
        {
          "output_type": "stream",
          "text": [
            "Explained variance (best possible score is 1.0, lower values are worse): 0.7743113978177752\n",
            "Mean Absolute Error (best is 0.0): 0.05716066432142311\n",
            "Mean Squared Error (best is 0.0): 0.019627651296268322\n",
            "R2 score (best is 1.0): 0.77143753145708\n",
            "root Mean Squared Error (best is 0.0): 0.14009871982380254\n"
          ],
          "name": "stdout"
        }
      ]
    },
    {
      "cell_type": "code",
      "metadata": {
        "colab": {
          "base_uri": "https://localhost:8080/"
        },
        "id": "fYbDBfs8vOyi",
        "outputId": "1be3a480-4aa4-4418-b184-36e90d154925"
      },
      "source": [
        "y_test_ann=y_test\n",
        "y_test_ann=pd.DataFrame(y_test_ann)\n",
        "y_pred_ann=pd.DataFrame(y_pred_ann)\n",
        "outl=y_pred_ann[abs(y_test-y_pred_ann)>0.1]\n",
        "outl=outl.dropna()\n",
        "print('Catastropic Outliers: ', outl.shape[0]*100.0/y_test.shape[0],'%')\n",
        "print('Total rms: ', np.sqrt(np.mean((y_test_ann-y_pred_ann)**2)))\n",
        "print('rms w/o outliers', np.sqrt(np.mean(((y_test_ann-y_pred_ann)[abs(y_test_ann-y_pred_ann)<0.1])**2)))\n",
        "print('Bias: ', np.mean(y_test_ann-y_pred_ann))\n",
        "print('Bias(median value of delta z):', np.median(y_test_ann-y_pred_ann))\n",
        "plt.show()\n",
        "\n",
        "delta_znorm=abs((y_test_ann-y_pred_ann)-np.median(y_pred_ann-y_test_ann)/(1+y_test_ann))\n",
        "NMAD=1.48*np.median(delta_znorm)\n",
        "print('NMAD: ', NMAD)"
      ],
      "execution_count": null,
      "outputs": [
        {
          "output_type": "stream",
          "text": [
            "Catastropic Outliers:  12.011288125225901 %\n",
            "Total rms:  0    0.140099\n",
            "dtype: float64\n",
            "rms w/o outliers 0    0.026571\n",
            "dtype: float64\n",
            "Bias:  0   -0.01571\n",
            "dtype: float64\n",
            "Bias(median value of delta z): -0.004164767973104604\n",
            "NMAD:  0.023316773073038793\n"
          ],
          "name": "stdout"
        }
      ]
    },
    {
      "cell_type": "code",
      "metadata": {
        "id": "UzDKMvSS5Lxm"
      },
      "source": [
        "y_test_ann=scaler.inverse_transform(y_test)"
      ],
      "execution_count": null,
      "outputs": []
    },
    {
      "cell_type": "code",
      "metadata": {
        "id": "dGejsRMcTqnN"
      },
      "source": [
        "y_pred_ann=scaler.inverse_transform(y_pred_ann)"
      ],
      "execution_count": null,
      "outputs": []
    },
    {
      "cell_type": "code",
      "metadata": {
        "colab": {
          "base_uri": "https://localhost:8080/",
          "height": 311
        },
        "id": "H1Y-OVrjebJ5",
        "outputId": "ef943011-2225-4b19-949e-04115cf1b244"
      },
      "source": [
        "import matplotlib.pyplot as plt \n",
        "plt.scatter(y_test_ann[:150000], y_pred_ann[:150000], s=0.4)\n",
        "plt.plot(np.linspace(0,7,7), np.linspace(0,7,7), c = 'orange', linestyle='--')\n",
        "plt.xlim(0, 7)\n",
        "plt.ylim(0, 7)\n",
        "plt.title('True/Predicted Graph') \n",
        "plt.grid(True) \n",
        "plt.xlabel(\"True\") \n",
        "plt.ylabel('Predicted')"
      ],
      "execution_count": null,
      "outputs": [
        {
          "output_type": "execute_result",
          "data": {
            "text/plain": [
              "Text(0, 0.5, 'Predicted')"
            ]
          },
          "metadata": {
            "tags": []
          },
          "execution_count": 28
        },
        {
          "output_type": "display_data",
          "data": {
            "image/png": "[encoded data removed]",
            "text/plain": [
              "<Figure size 432x288 with 1 Axes>"
            ]
          },
          "metadata": {
            "tags": [],
            "needs_background": "light"
          }
        }
      ]
    }
  ]
}